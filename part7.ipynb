{
 "cells": [
  {
   "cell_type": "markdown",
   "id": "9eb41b13-3ec3-45ac-8b11-739b55ed8eaf",
   "metadata": {},
   "source": [
    "> I turned around to see this cute guy holding an item I had bought. He said, ‘I got the same thing!’ We laughed about it and wound up swapping items because I wanted the color he got.\n",
    "> I asked him to get some food with me and we spent the rest of the day together."
   ]
  },
  {
   "cell_type": "code",
   "execution_count": 40,
   "id": "6d792332-cbe7-4aaa-b651-7d13ddddce56",
   "metadata": {},
   "outputs": [],
   "source": [
    "import polars as pl\n",
    "\n",
    "customers = pl.read_csv(\"data/noahs-customers.csv\",try_parse_dates=True)\n",
    "orders_items = pl.read_csv(\"data/noahs-orders_items.csv\",try_parse_dates=True)\n",
    "orders = pl.read_csv(\"data/noahs-orders.csv\",try_parse_dates=True)\n",
    "products = pl.read_csv(\"data/noahs-products.csv\",try_parse_dates=True)"
   ]
  },
  {
   "cell_type": "markdown",
   "id": "c452228e-ca28-48dd-95e1-63d8b4f6305f",
   "metadata": {},
   "source": [
    "Step 1: Find all the items with colors in their names. \n",
    "After inspecting the products table, it seems that colors are written in **lower-case** at the end of the product description in parentheses.\n",
    "I'll separate the product color into its own column."
   ]
  },
  {
   "cell_type": "code",
   "execution_count": 46,
   "id": "402a0f34-7858-4b91-a6f5-8e81fcbc0907",
   "metadata": {},
   "outputs": [
    {
     "name": "stdout",
     "output_type": "stream",
     "text": [
      "shape: (5, 3)\n",
      "┌─────────┬──────────────────────┬───────┐\n",
      "│ sku     ┆ desc_without_color   ┆ color │\n",
      "│ ---     ┆ ---                  ┆ ---   │\n",
      "│ str     ┆ str                  ┆ str   │\n",
      "╞═════════╪══════════════════════╪═══════╡\n",
      "│ COL0037 ┆ Noah's Jewelry       ┆ green │\n",
      "│ COL0065 ┆ Noah's Jewelry       ┆ mauve │\n",
      "│ COL0166 ┆ Noah's Action Figure ┆ blue  │\n",
      "│ COL0167 ┆ Noah's Bobblehead    ┆ blue  │\n",
      "│ COL0483 ┆ Noah's Action Figure ┆ mauve │\n",
      "└─────────┴──────────────────────┴───────┘\n"
     ]
    }
   ],
   "source": [
    "# Products with colors in the name always end in e.g. `... (blue)`, so use a regex that pulls that color name out\n",
    "color_name_filter = r\"(.+) \\(([[:lower:]]+)\\)\"\n",
    "colorful_products = products.filter(pl.col(\"desc\").str.contains(color_name_filter))\n",
    "products_with_colors_extracted = colorful_products.select(\n",
    "    pl.col(\"sku\"),\n",
    "    pl.col(\"desc\").str.extract(color_name_filter, group_index=1).alias(\"desc_without_color\"),\n",
    "    pl.col(\"desc\").str.extract(color_name_filter, group_index=2).alias(\"color\")\n",
    ")\n",
    "print(products_with_colors_extracted.head())"
   ]
  },
  {
   "cell_type": "markdown",
   "id": "a650dc6f-592b-4878-8de6-aa681064d19e",
   "metadata": {},
   "source": [
    "Ok now I'll find all orders with items that contain \"colorful products\"."
   ]
  },
  {
   "cell_type": "code",
   "execution_count": 54,
   "id": "ad39f1aa-50ae-4d53-a0ad-2882da9c47c0",
   "metadata": {},
   "outputs": [
    {
     "name": "stdout",
     "output_type": "stream",
     "text": [
      "shape: (28_012, 6)\n",
      "┌─────────┬─────────┬─────┬────────────┬──────────────────────┬─────────┐\n",
      "│ orderid ┆ sku     ┆ qty ┆ unit_price ┆ desc_without_color   ┆ color   │\n",
      "│ ---     ┆ ---     ┆ --- ┆ ---        ┆ ---                  ┆ ---     │\n",
      "│ i64     ┆ str     ┆ i64 ┆ f64        ┆ str                  ┆ str     │\n",
      "╞═════════╪═════════╪═════╪════════════╪══════════════════════╪═════════╡\n",
      "│ 1014    ┆ COL4117 ┆ 1   ┆ 4.55       ┆ Noah's Poster        ┆ yellow  │\n",
      "│ 1015    ┆ COL8357 ┆ 1   ┆ 13.48      ┆ Noah's Lunchbox      ┆ mauve   │\n",
      "│ 1018    ┆ COL6388 ┆ 1   ┆ 3.72       ┆ Noah's Gift Box      ┆ magenta │\n",
      "│ 1040    ┆ COL7454 ┆ 1   ┆ 10.65      ┆ Noah's Jersey        ┆ mauve   │\n",
      "│ 1041    ┆ COL2141 ┆ 1   ┆ 5.87       ┆ Noah's Bobblehead    ┆ puce    │\n",
      "│ …       ┆ …       ┆ …   ┆ …          ┆ …                    ┆ …       │\n",
      "│ 214217  ┆ COL9349 ┆ 1   ┆ 18.31      ┆ Noah's Action Figure ┆ orange  │\n",
      "│ 214218  ┆ COL0837 ┆ 1   ┆ 4.97       ┆ Noah's Poster        ┆ mauve   │\n",
      "│ 214227  ┆ COL1263 ┆ 1   ┆ 21.15      ┆ Noah's Action Figure ┆ yellow  │\n",
      "│ 214231  ┆ COL3430 ┆ 1   ┆ 13.45      ┆ Noah's Lunchbox      ┆ green   │\n",
      "│ 214232  ┆ COL6388 ┆ 1   ┆ 4.25       ┆ Noah's Gift Box      ┆ magenta │\n",
      "└─────────┴─────────┴─────┴────────────┴──────────────────────┴─────────┘\n"
     ]
    }
   ],
   "source": [
    "print(orders_items.join(products_with_colors_extracted, on=\"sku\", how=\"inner\"))"
   ]
  },
  {
   "cell_type": "markdown",
   "id": "c17e2bf1-0303-424a-a8c2-71f5eae500db",
   "metadata": {},
   "source": [
    "And now I have to find consecutive orders (the orderids auto-increment by one) which have the same item but a different color..."
   ]
  }
 ],
 "metadata": {
  "kernelspec": {
   "display_name": "Python 3 (ipykernel)",
   "language": "python",
   "name": "python3"
  },
  "language_info": {
   "codemirror_mode": {
    "name": "ipython",
    "version": 3
   },
   "file_extension": ".py",
   "mimetype": "text/x-python",
   "name": "python",
   "nbconvert_exporter": "python",
   "pygments_lexer": "ipython3",
   "version": "3.12.6"
  }
 },
 "nbformat": 4,
 "nbformat_minor": 5
}
