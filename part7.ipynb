{
 "cells": [
  {
   "cell_type": "markdown",
   "id": "9eb41b13-3ec3-45ac-8b11-739b55ed8eaf",
   "metadata": {},
   "source": [
    "> I turned around to see this cute guy holding an item I had bought. He said, ‘I got the same thing!’ We laughed about it and wound up swapping items because I wanted the color he got.\n",
    "> I asked him to get some food with me and we spent the rest of the day together."
   ]
  },
  {
   "cell_type": "code",
   "execution_count": 177,
   "id": "6d792332-cbe7-4aaa-b651-7d13ddddce56",
   "metadata": {},
   "outputs": [],
   "source": [
    "import polars as pl\n",
    "\n",
    "customers = pl.read_csv(\"data/noahs-customers.csv\",try_parse_dates=True)\n",
    "orders_items = pl.read_csv(\"data/noahs-orders_items.csv\",try_parse_dates=True)\n",
    "orders = pl.read_csv(\"data/noahs-orders.csv\",try_parse_dates=True)\n",
    "products = pl.read_csv(\"data/noahs-products.csv\",try_parse_dates=True)"
   ]
  },
  {
   "cell_type": "markdown",
   "id": "c452228e-ca28-48dd-95e1-63d8b4f6305f",
   "metadata": {},
   "source": [
    "Step 1: Find all the items with colors in their names. \n",
    "After inspecting the products table, it seems that colors are written in **lower-case** at the end of the product description in parentheses.\n",
    "I'll separate the product color into its own column."
   ]
  },
  {
   "cell_type": "code",
   "execution_count": 178,
   "id": "402a0f34-7858-4b91-a6f5-8e81fcbc0907",
   "metadata": {},
   "outputs": [
    {
     "name": "stdout",
     "output_type": "stream",
     "text": [
      "shape: (5, 3)\n",
      "┌─────────┬──────────────────────┬───────┐\n",
      "│ sku     ┆ desc                 ┆ color │\n",
      "│ ---     ┆ ---                  ┆ ---   │\n",
      "│ str     ┆ str                  ┆ str   │\n",
      "╞═════════╪══════════════════════╪═══════╡\n",
      "│ COL0037 ┆ Noah's Jewelry       ┆ green │\n",
      "│ COL0065 ┆ Noah's Jewelry       ┆ mauve │\n",
      "│ COL0166 ┆ Noah's Action Figure ┆ blue  │\n",
      "│ COL0167 ┆ Noah's Bobblehead    ┆ blue  │\n",
      "│ COL0483 ┆ Noah's Action Figure ┆ mauve │\n",
      "└─────────┴──────────────────────┴───────┘\n"
     ]
    }
   ],
   "source": [
    "# Products with colors in the name always end in e.g. `... (blue)`, so use a regex that pulls that color name out\n",
    "color_name_filter = r\"(.+) \\(([[:lower:]]+)\\)\"\n",
    "colorful_products = products.filter(pl.col(\"desc\").str.contains(color_name_filter))\n",
    "products_with_colors_extracted = colorful_products.select(\n",
    "    pl.col(\"sku\"),\n",
    "    pl.col(\"desc\").str.extract(color_name_filter, group_index=1),\n",
    "    pl.col(\"desc\").str.extract(color_name_filter, group_index=2).alias(\"color\")\n",
    ")\n",
    "print(products_with_colors_extracted.head())"
   ]
  },
  {
   "cell_type": "markdown",
   "id": "a650dc6f-592b-4878-8de6-aa681064d19e",
   "metadata": {},
   "source": [
    "Ok now I'll find all orders with items that contain \"colorful products\"."
   ]
  },
  {
   "cell_type": "code",
   "execution_count": 179,
   "id": "ad39f1aa-50ae-4d53-a0ad-2882da9c47c0",
   "metadata": {},
   "outputs": [
    {
     "name": "stdout",
     "output_type": "stream",
     "text": [
      "shape: (28_012, 6)\n",
      "┌─────────┬─────────┬─────┬────────────┬──────────────────────┬─────────┐\n",
      "│ orderid ┆ sku     ┆ qty ┆ unit_price ┆ desc                 ┆ color   │\n",
      "│ ---     ┆ ---     ┆ --- ┆ ---        ┆ ---                  ┆ ---     │\n",
      "│ i64     ┆ str     ┆ i64 ┆ f64        ┆ str                  ┆ str     │\n",
      "╞═════════╪═════════╪═════╪════════════╪══════════════════════╪═════════╡\n",
      "│ 1014    ┆ COL4117 ┆ 1   ┆ 4.55       ┆ Noah's Poster        ┆ yellow  │\n",
      "│ 1015    ┆ COL8357 ┆ 1   ┆ 13.48      ┆ Noah's Lunchbox      ┆ mauve   │\n",
      "│ 1018    ┆ COL6388 ┆ 1   ┆ 3.72       ┆ Noah's Gift Box      ┆ magenta │\n",
      "│ 1040    ┆ COL7454 ┆ 1   ┆ 10.65      ┆ Noah's Jersey        ┆ mauve   │\n",
      "│ 1041    ┆ COL2141 ┆ 1   ┆ 5.87       ┆ Noah's Bobblehead    ┆ puce    │\n",
      "│ …       ┆ …       ┆ …   ┆ …          ┆ …                    ┆ …       │\n",
      "│ 214217  ┆ COL9349 ┆ 1   ┆ 18.31      ┆ Noah's Action Figure ┆ orange  │\n",
      "│ 214218  ┆ COL0837 ┆ 1   ┆ 4.97       ┆ Noah's Poster        ┆ mauve   │\n",
      "│ 214227  ┆ COL1263 ┆ 1   ┆ 21.15      ┆ Noah's Action Figure ┆ yellow  │\n",
      "│ 214231  ┆ COL3430 ┆ 1   ┆ 13.45      ┆ Noah's Lunchbox      ┆ green   │\n",
      "│ 214232  ┆ COL6388 ┆ 1   ┆ 4.25       ┆ Noah's Gift Box      ┆ magenta │\n",
      "└─────────┴─────────┴─────┴────────────┴──────────────────────┴─────────┘\n"
     ]
    }
   ],
   "source": [
    "orders_with_colorful_products = orders_items.join(products_with_colors_extracted, on=\"sku\", how=\"inner\")\n",
    "print(orders_with_colorful_products)"
   ]
  },
  {
   "cell_type": "markdown",
   "id": "eb898533-b1f7-4e8e-a3ee-7b8d88df47f3",
   "metadata": {},
   "source": [
    "And now I have to find consecutive orders (the orderids auto-increment by one) which have the same item but a different color...\n",
    "This is pretty hard for me conceptually, because I don't know how to compare rows only if they're sequential.\n",
    "\n",
    "Maybe I could do a group_by on \"desc\", collect the orderids into a list, and somehow find the lists that have orderid off by one with same \"desc\"??"
   ]
  },
  {
   "cell_type": "code",
   "execution_count": 180,
   "id": "05e61e3e-f3a9-4972-96dd-b62a9e4d2d9b",
   "metadata": {},
   "outputs": [
    {
     "name": "stdout",
     "output_type": "stream",
     "text": [
      "shape: (7, 2)\n",
      "┌──────────────────────┬────────────────────────┐\n",
      "│ desc                 ┆ orderid                │\n",
      "│ ---                  ┆ ---                    │\n",
      "│ str                  ┆ list[i64]              │\n",
      "╞══════════════════════╪════════════════════════╡\n",
      "│ Noah's Action Figure ┆ [1073, 1147, … 214227] │\n",
      "│ Noah's Bobblehead    ┆ [1041, 1071, … 214150] │\n",
      "│ Noah's Gift Box      ┆ [1018, 1167, … 214232] │\n",
      "│ Noah's Jersey        ┆ [1040, 1066, … 214184] │\n",
      "│ Noah's Jewelry       ┆ [1053, 1086, … 214202] │\n",
      "│ Noah's Lunchbox      ┆ [1015, 1086, … 214231] │\n",
      "│ Noah's Poster        ┆ [1014, 1047, … 214218] │\n",
      "└──────────────────────┴────────────────────────┘\n"
     ]
    }
   ],
   "source": [
    "orders_by_colorful_products = (\n",
    "    orders_with_colorful_products.group_by(\"desc\")\n",
    "    .agg(pl.col(\"orderid\").sort()) # Sort orders for pairwise filter later\n",
    "    .sort(\"desc\")\n",
    ")\n",
    "print(orders_by_colorful_products)"
   ]
  },
  {
   "cell_type": "markdown",
   "id": "da064e3a-462a-47e2-8eff-de2c73edf0d5",
   "metadata": {},
   "source": [
    "For each product, I must find all the order ids that are consecutive.\n",
    "This is called going pairwise through the list, and luckily python itertools implements that for me."
   ]
  },
  {
   "cell_type": "code",
   "execution_count": 184,
   "id": "8f4a72eb-7ddc-4c30-beee-46c1b776cb49",
   "metadata": {},
   "outputs": [
    {
     "name": "stdout",
     "output_type": "stream",
     "text": [
      "shape: (550, 2)\n",
      "┌──────────────────────┬─────────────────────┐\n",
      "│ desc                 ┆ consecutive_orderid │\n",
      "│ ---                  ┆ ---                 │\n",
      "│ str                  ┆ list[i64]           │\n",
      "╞══════════════════════╪═════════════════════╡\n",
      "│ Noah's Action Figure ┆ [2220, 2221]        │\n",
      "│ Noah's Action Figure ┆ [4573, 4574]        │\n",
      "│ Noah's Action Figure ┆ [4946, 4947]        │\n",
      "│ Noah's Action Figure ┆ [11945, 11946]      │\n",
      "│ Noah's Action Figure ┆ [13250, 13251]      │\n",
      "│ …                    ┆ …                   │\n",
      "│ Noah's Poster        ┆ [201437, 201438]    │\n",
      "│ Noah's Poster        ┆ [202011, 202012]    │\n",
      "│ Noah's Poster        ┆ [204001, 204002]    │\n",
      "│ Noah's Poster        ┆ [205182, 205183]    │\n",
      "│ Noah's Poster        ┆ [210059, 210060]    │\n",
      "└──────────────────────┴─────────────────────┘\n"
     ]
    }
   ],
   "source": [
    "from itertools import pairwise\n",
    "\n",
    "def filter_consecutive_ids(series: pl.List(pl.Int64)) -> list[tuple[int, int]]:\n",
    "    output = []\n",
    "    for pair in pairwise(series):\n",
    "        if pair[1] - pair[0] == 1:\n",
    "            output.append(pair)\n",
    "    return output\n",
    "\n",
    "items_ordered_consecutively = orders_by_colorful_products.select(\n",
    "    pl.col(\"desc\"),\n",
    "    pl.col(\"orderid\").map_elements(\n",
    "        filter_consecutive_ids, return_dtype=pl.List(pl.List(pl.Int64))\n",
    "    ).alias(\"consecutive_orderid\"),\n",
    ").explode(\"consecutive_orderid\")\n",
    "print(items_ordered_consecutively)\n"
   ]
  },
  {
   "cell_type": "markdown",
   "id": "90fd4bf5-c0a2-4670-8aae-8f3816a1cc97",
   "metadata": {},
   "source": [
    "This is a table of all the consecutive orders where a specific item (ignoring its color) was bought.\n",
    "I now need to filter for the rows where the color changed between each order in the list."
   ]
  },
  {
   "cell_type": "code",
   "execution_count": 187,
   "id": "2bb3417c-9915-49c2-912b-f2c0be014896",
   "metadata": {},
   "outputs": [
    {
     "name": "stdout",
     "output_type": "stream",
     "text": [
      "shape: (401, 3)\n",
      "┌──────────────────────┬─────────────────────┬─────────────────────┐\n",
      "│ desc                 ┆ consecutive_orderid ┆ color               │\n",
      "│ ---                  ┆ ---                 ┆ ---                 │\n",
      "│ str                  ┆ list[i64]           ┆ list[str]           │\n",
      "╞══════════════════════╪═════════════════════╪═════════════════════╡\n",
      "│ Noah's Action Figure ┆ [2220, 2221]        ┆ [\"orange\", \"amber\"] │\n",
      "│ Noah's Action Figure ┆ [4573, 4574]        ┆ [\"white\", \"purple\"] │\n",
      "│ Noah's Action Figure ┆ [4946, 4947]        ┆ [\"amber\", \"purple\"] │\n",
      "│ Noah's Action Figure ┆ [13250, 13251]      ┆ [\"azure\", \"purple\"] │\n",
      "│ Noah's Action Figure ┆ [13649, 13650]      ┆ [\"yellow\", \"green\"] │\n",
      "│ …                    ┆ …                   ┆ …                   │\n",
      "│ Noah's Poster        ┆ [189701, 189702]    ┆ [\"blue\", \"white\"]   │\n",
      "│ Noah's Poster        ┆ [197802, 197803]    ┆ [\"red\", \"azure\"]    │\n",
      "│ Noah's Poster        ┆ [201437, 201438]    ┆ [\"azure\", \"red\"]    │\n",
      "│ Noah's Poster        ┆ [204001, 204002]    ┆ [\"green\", \"yellow\"] │\n",
      "│ Noah's Poster        ┆ [210059, 210060]    ┆ [\"purple\", \"azure\"] │\n",
      "└──────────────────────┴─────────────────────┴─────────────────────┘\n"
     ]
    }
   ],
   "source": [
    "def get_orderids_to_item_color(series: pl.List(pl.Int64)) -> pl.List(pl.String):\n",
    "    # orders_with_colorful_products is a global variable :)\n",
    "    return orders_with_colorful_products.filter(pl.col(\"orderid\").is_in(series)).select(\n",
    "        \"color\"\n",
    "    )\n",
    "\n",
    "# - Add a 'color' column that has the color of each item from the corresponding orderid list\n",
    "# - Filter for rows where exactly one item was bought in each order (length 2)\n",
    "# - Filter for rows where the color list has two unique elements\n",
    "items_ordered_consecutively_with_color = items_ordered_consecutively.select(\n",
    "    pl.col(\"desc\"),\n",
    "    pl.col(\"consecutive_orderid\"),\n",
    "    pl.col(\"consecutive_orderid\")\n",
    "    .map_elements(get_orderids_to_item_color, return_dtype=pl.List(pl.String))\n",
    "    .alias(\"color\"),\n",
    ").filter(pl.col(\"color\").list.len() == 2).filter(pl.col(\"color\").list.n_unique() == 2)\n",
    "print(items_ordered_consecutively_with_color)"
   ]
  },
  {
   "cell_type": "markdown",
   "id": "00f4a755-148d-4271-8585-c0e7aa1974fd",
   "metadata": {},
   "source": [
    "I have the above table with 401 orders that are consecutive and have the same item in a different color.\n",
    "\n",
    "I'll find the rows where either orderid belongs to Sherri Long, the woman from part 6."
   ]
  },
  {
   "cell_type": "code",
   "execution_count": 217,
   "id": "21acdc40-f449-49ca-b5e8-611d624460a8",
   "metadata": {},
   "outputs": [
    {
     "name": "stdout",
     "output_type": "stream",
     "text": [
      "shape: (1, 3)\n",
      "┌───────────────┬─────────────────────┬─────────────────────┐\n",
      "│ desc          ┆ consecutive_orderid ┆ color               │\n",
      "│ ---           ┆ ---                 ┆ ---                 │\n",
      "│ str           ┆ list[i64]           ┆ list[str]           │\n",
      "╞═══════════════╪═════════════════════╪═════════════════════╡\n",
      "│ Noah's Poster ┆ [70502, 70503]      ┆ [\"orange\", \"azure\"] │\n",
      "└───────────────┴─────────────────────┴─────────────────────┘\n"
     ]
    }
   ],
   "source": [
    "part6_customerid = 4167\n",
    "part6_customer_orderids = (\n",
    "    orders.filter(pl.col(\"customerid\") == part6_customerid)\n",
    "    .select(\"orderid\")\n",
    "    .to_series()\n",
    ")\n",
    "\n",
    "orders_from_part6_customer = items_ordered_consecutively_with_color.filter(\n",
    "    pl.col(\"consecutive_orderid\")\n",
    "    .list.eval(pl.element().is_in(part6_customer_orderids))\n",
    "    .list.any()\n",
    ")\n",
    "print(orders_from_part6_customer)"
   ]
  },
  {
   "cell_type": "markdown",
   "id": "0cb2f325-a7d9-4d28-adda-67db2fedd6d0",
   "metadata": {},
   "source": [
    "I'll programatically get the order id + customer id of the customer that is not Sherri Long from the above list of orderids."
   ]
  },
  {
   "cell_type": "code",
   "execution_count": 224,
   "id": "ca4fb30c-34e0-422a-9a50-7703077d52be",
   "metadata": {},
   "outputs": [
    {
     "name": "stdout",
     "output_type": "stream",
     "text": [
      "shape: (1, 3)\n",
      "┌────────────┬──────────────┬──────────────┐\n",
      "│ customerid ┆ name         ┆ phone        │\n",
      "│ ---        ┆ ---          ┆ ---          │\n",
      "│ i64        ┆ str          ┆ str          │\n",
      "╞════════════╪══════════════╪══════════════╡\n",
      "│ 5783       ┆ Carlos Myers ┆ 838-335-7157 │\n",
      "└────────────┴──────────────┴──────────────┘\n"
     ]
    }
   ],
   "source": [
    "print(\n",
    "    orders_from_part6_customer.explode(\"consecutive_orderid\")\n",
    "    .filter(pl.col(\"consecutive_orderid\").is_in(part6_customer_orderids).not_())\n",
    "    .join(orders, left_on=\"consecutive_orderid\", right_on=\"orderid\", how=\"inner\")\n",
    "    .join(customers, on=\"customerid\", how=\"inner\")\n",
    "    .select(\"customerid\", \"name\", \"phone\")\n",
    ")\n"
   ]
  }
 ],
 "metadata": {
  "kernelspec": {
   "display_name": "Python 3 (ipykernel)",
   "language": "python",
   "name": "python3"
  },
  "language_info": {
   "codemirror_mode": {
    "name": "ipython",
    "version": 3
   },
   "file_extension": ".py",
   "mimetype": "text/x-python",
   "name": "python",
   "nbconvert_exporter": "python",
   "pygments_lexer": "ipython3",
   "version": "3.12.6"
  }
 },
 "nbformat": 4,
 "nbformat_minor": 5
}
