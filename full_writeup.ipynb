{
 "cells": [
  {
   "cell_type": "markdown",
   "id": "e497f53b-47bf-43cb-8fe8-1ab8b35a026b",
   "metadata": {},
   "source": [
    "# Hannukah of Data\n",
    "\n",
    "*[Hannukah of Data: Noah's Rug](https://hanukkah.bluebird.sh/5784/)* is a super fun data puzzle where you must sift through a database from Noah's Market, \"a bustling mom-and-pop everything store in Manhattan\", and find past customers who can help you find Noah's Rug.\n",
    "\n",
    "I'm going to attempt the challenges with a mix of Python and SQL.\n",
    "I'll try using [Polars](https://docs.pola.rs/), a new DataFrame library which seems more intuitive to me than Pandas.\n",
    "I know I'll be bailing out and using SQL as the tasks get harder, though.\n",
    "\n",
    "Part 0 is getting access to the database files, which I'll leave as an exercise to the reader.\n",
    "\n",
    "I'll also be leaving most of the challenge description/story out of this, but I really recommend playing along because it's funny story that plays out."
   ]
  },
  {
   "cell_type": "code",
   "execution_count": 2,
   "id": "4397c396-34ed-465d-8cfd-52a2c1f444f2",
   "metadata": {},
   "outputs": [],
   "source": [
    "# Load data\n",
    "import polars as pl\n",
    "\n",
    "customers = pl.read_csv(\"data/noahs-customers.csv\",try_parse_dates=True)\n",
    "orders_items = pl.read_csv(\"data/noahs-orders_items.csv\",try_parse_dates=True)\n",
    "orders = pl.read_csv(\"data/noahs-orders.csv\",try_parse_dates=True)\n",
    "products = pl.read_csv(\"data/noahs-products.csv\",try_parse_dates=True)"
   ]
  },
  {
   "cell_type": "markdown",
   "id": "e2844e4b-ddc3-453c-bbd8-f943e0794940",
   "metadata": {},
   "source": [
    "# Part 1: The Investigator\n",
    "\n",
    "The goal is to find the customer whose phone number is equivalent to their last name spelled out on a phone keypad.\n",
    "\n",
    "First, I'll need a function that converts a string (last name) to a phone number. \n",
    "For example, \"SAM\" would be \"726\" and \"NOAH\" would be \"6624\".\n",
    "\n",
    "Then, I'll need to run that function on everyone's last name and see if it matches their phone number."
   ]
  },
  {
   "cell_type": "code",
   "execution_count": 3,
   "id": "76ffd073-15d4-40c3-a3bc-802811c5c41a",
   "metadata": {},
   "outputs": [],
   "source": [
    "def letter_to_number(letter: str) -> str:\n",
    "    if len(letter) > 1:\n",
    "        raise ValueError(\"You can only pass one letter at a time\")\n",
    "        \n",
    "    letter = letter.lower()\n",
    "    if letter in \"abc\":\n",
    "        return \"2\"\n",
    "    elif letter in \"def\":\n",
    "        return \"3\"\n",
    "    elif letter in \"ghi\":\n",
    "        return \"4\"\n",
    "    elif letter in \"jkl\":\n",
    "        return \"5\"\n",
    "    elif letter in \"mno\":\n",
    "        return \"6\"\n",
    "    elif letter in \"pqrs\":\n",
    "        return \"7\"\n",
    "    elif letter in \"tuv\":\n",
    "        return \"8\"\n",
    "    elif letter in \"wxyz\":\n",
    "        return \"9\"\n",
    "    else:\n",
    "        return \"\"\n",
    "        \n",
    "def name_to_number(name: str) -> str:\n",
    "    return \"\".join([letter_to_number(l) for l in name if l.isalpha()])\n"
   ]
  },
  {
   "cell_type": "code",
   "execution_count": 4,
   "id": "d287d142-b61d-407c-a4b7-b2a694f97fa6",
   "metadata": {},
   "outputs": [
    {
     "name": "stdout",
     "output_type": "stream",
     "text": [
      "shape: (1, 3)\n",
      "┌─────────────┬────────────────┬──────────────┐\n",
      "│ name_number ┆ name           ┆ phone        │\n",
      "│ ---         ┆ ---            ┆ ---          │\n",
      "│ str         ┆ str            ┆ str          │\n",
      "╞═════════════╪════════════════╪══════════════╡\n",
      "│ 8266362286  ┆ Sam Tannenbaum ┆ 826-636-2286 │\n",
      "└─────────────┴────────────────┴──────────────┘\n"
     ]
    }
   ],
   "source": [
    "# Solution\n",
    "last_names_translated = customers.select(\n",
    "    pl.col(\"name\")\n",
    "    .str.extract(r\"(.+) (.+)\", group_index=2)\n",
    "    .map_elements(name_to_number, return_dtype=pl.String)\n",
    "    .alias(\"name_number\"),\n",
    "    pl.col(\"name\"),\n",
    "    pl.col(\"phone\"),\n",
    ")\n",
    "\n",
    "print(last_names_translated.filter(\n",
    "    pl.col(\"name_number\") == pl.col(\"phone\").str.replace_all(\"-\", \"\")\n",
    "))"
   ]
  },
  {
   "cell_type": "markdown",
   "id": "450b56a3-9df3-482c-9618-360d95a056d9",
   "metadata": {},
   "source": [
    "# Explanation\n",
    "\n",
    "The above code selects the \"name\" column in the customers table, takes the last name, and runs the `name_to_number` function function on it.\n",
    "The second line then filters all the rows where the above \"last name translated to phone number\" (here I called the new column `name_number`) is equal to the the phone number.\n",
    "Luckily there was only one person!"
   ]
  },
  {
   "cell_type": "markdown",
   "id": "b3ee0c7a-0482-4fe6-94fd-df8fd4d13551",
   "metadata": {},
   "source": [
    "# Part 2: The Contractor\n",
    "\n",
    "Finding the phone number in Part 1 unlocks Part 2, where you need to find a contractor's phone number.\n",
    "\n",
    "> ... **they usually talked about the project over coffee and bagels at Noah’s before handing off the item to be cleaned. The contractors would pick up the tab and expense it, along with their cleaning supplies.**\n",
    "> \n",
    "> “So this rug was apparently one of those special projects. The claim ticket said ‘2017 JP’. **‘2017’ is the year the item was brought in, and ‘JP’ is the initials of the contractor.**\n",
    "\n",
    "First I'll find all the customers whose initials are JP.\n",
    "How many could there be?"
   ]
  },
  {
   "cell_type": "code",
   "execution_count": 7,
   "id": "261d08f6-7790-4963-8b73-6fca6049c264",
   "metadata": {},
   "outputs": [
    {
     "name": "stdout",
     "output_type": "stream",
     "text": [
      "72\n"
     ]
    }
   ],
   "source": [
    "jp_customers = customers.filter(pl.col(\"name\").str.contains(\"^J.+ P.+$\"))\n",
    "print(jp_customers.height)"
   ]
  },
  {
   "cell_type": "markdown",
   "id": "d86ef220-eb23-4579-92ae-946fc189a708",
   "metadata": {},
   "source": [
    "How many orders did they collectively place in 2017?"
   ]
  },
  {
   "cell_type": "code",
   "execution_count": 76,
   "id": "25dfe1b9-c3d3-43a3-9cb7-acf664138e51",
   "metadata": {},
   "outputs": [
    {
     "name": "stdout",
     "output_type": "stream",
     "text": [
      "486\n"
     ]
    }
   ],
   "source": [
    "# Get all of the orders (including items) from JP in 2017\n",
    "orders_2017 = orders.filter(pl.col(\"ordered\").dt.year() == 2017).join(\n",
    "    jp_customers, on=\"customerid\", how=\"inner\"\n",
    ")\n",
    "orders_items_2017 = orders_items.join(orders_2017, on=\"orderid\", how=\"inner\")\n",
    "print(len(orders_items_2017))"
   ]
  },
  {
   "cell_type": "markdown",
   "id": "d159ceab-3c95-4338-8b85-321860c075d3",
   "metadata": {},
   "source": [
    "Ok, so I need to find the customer who buys coffee, bagels, and cleaning supplies.\n",
    "Visually inspecting the products table shows that I only need to filter on products with descriptions containing \"bagel\", \"coffee\", and \"cleaner\"."
   ]
  },
  {
   "cell_type": "code",
   "execution_count": 77,
   "id": "a4158b62-588c-4f49-83bc-a2b93691bb7e",
   "metadata": {},
   "outputs": [
    {
     "name": "stdout",
     "output_type": "stream",
     "text": [
      "shape: (4, 4)\n",
      "┌─────────┬───────────────┬────────────────┬───────────────┐\n",
      "│ sku     ┆ desc          ┆ wholesale_cost ┆ dims_cm       │\n",
      "│ ---     ┆ ---           ┆ ---            ┆ ---           │\n",
      "│ str     ┆ str           ┆ f64            ┆ str           │\n",
      "╞═════════╪═══════════════╪════════════════╪═══════════════╡\n",
      "│ BKY1573 ┆ Sesame Bagel  ┆ 1.02           ┆ 11.9|4.7|0.9  │\n",
      "│ HOM2761 ┆ Rug Cleaner   ┆ 1.43           ┆ 19.6|11.7|0.2 │\n",
      "│ BKY5717 ┆ Caraway Bagel ┆ 1.03           ┆ 11.3|2.3|1.6  │\n",
      "│ DLI8820 ┆ Coffee, Drip  ┆ 1.44           ┆ 9.6|7.8|0.7   │\n",
      "└─────────┴───────────────┴────────────────┴───────────────┘\n"
     ]
    }
   ],
   "source": [
    "coffee_bagels_cleaners = products.filter(pl.col(\"desc\").str.contains(\"Bagel|Coffee|Cleaner\"))\n",
    "print(coffee_bagels_cleaners)"
   ]
  },
  {
   "cell_type": "markdown",
   "id": "ba096b4d-80a5-4019-8e40-535570239b98",
   "metadata": {},
   "source": [
    "I want all the order ids where coffee **AND** bagels **AND** cleaner were purchased, but I'm going to take a shortcut and find the orders where coffee **OR** bagels **OR** cleaner were purchased.\n",
    "Then I'll take the orders that had three items or more."
   ]
  },
  {
   "cell_type": "code",
   "execution_count": 78,
   "id": "1cb216d8-4baf-4de1-8db9-e2a8e6fb3efb",
   "metadata": {},
   "outputs": [
    {
     "name": "stdout",
     "output_type": "stream",
     "text": [
      "shape: (1, 2)\n",
      "┌─────────┬─────┐\n",
      "│ orderid ┆ len │\n",
      "│ ---     ┆ --- │\n",
      "│ i64     ┆ u32 │\n",
      "╞═════════╪═════╡\n",
      "│ 7459    ┆ 3   │\n",
      "└─────────┴─────┘\n"
     ]
    }
   ],
   "source": [
    "# Get all of the orders that had coffee OR bagels OR cleaner, since I'm too lazy\n",
    "# to solve how to do it with AND\n",
    "potential_contractor_orders = (\n",
    "    coffee_bagels_cleaners.join(orders_items_2017, on=\"sku\", how=\"inner\")\n",
    "    .group_by(\"orderid\")\n",
    "    .agg(pl.len())\n",
    "    .filter(pl.col(\"len\") >= 3)\n",
    ")\n",
    "print(potential_contractor_orders)\n"
   ]
  },
  {
   "cell_type": "markdown",
   "id": "98ab80c4-b387-4541-9dc9-dca4976ef3ec",
   "metadata": {},
   "source": [
    "This happens to work in this case, but I suspect it'll fail in larger datasets. \n",
    "I find it hard to believe there's only one person within initals JP who bought three coffees in 2017.\n",
    "\n",
    "Now I find the customer who placed that order."
   ]
  },
  {
   "cell_type": "code",
   "execution_count": 79,
   "id": "0936af4e-1402-4290-a737-dd2b4f5a546d",
   "metadata": {},
   "outputs": [
    {
     "name": "stdout",
     "output_type": "stream",
     "text": [
      "shape: (1, 2)\n",
      "┌─────────────────┬──────────────┐\n",
      "│ name            ┆ phone        │\n",
      "│ ---             ┆ ---          │\n",
      "│ str             ┆ str          │\n",
      "╞═════════════════╪══════════════╡\n",
      "│ Joshua Peterson ┆ 332-274-4185 │\n",
      "└─────────────────┴──────────────┘\n"
     ]
    }
   ],
   "source": [
    "print(potential_contractor_orders.join(orders_2017, on=\"orderid\", how=\"left\").join(\n",
    "    customers, on=\"customerid\", how=\"inner\"\n",
    ").select(\"name\", \"phone\"))\n"
   ]
  },
  {
   "cell_type": "markdown",
   "id": "41b26dae-2cb8-447f-be17-83c83d24f6d8",
   "metadata": {},
   "source": [
    "# Part 3: The Neighbor\n",
    "\n",
    "The contractor passed the rug along to a neighbor. \n",
    "Here's the important info for finding them:\n",
    "\n",
    "> I gave it to this guy who lived in my neighborhood... he was a Cancer born in the year of the Rabbit...\n"
   ]
  },
  {
   "cell_type": "markdown",
   "id": "68450e13-1702-4ce7-8008-e2fafe69583c",
   "metadata": {},
   "source": [
    "So I'll need to find the customer who:\n",
    "- lives in Joshua Peterson's neighborhood\n",
    "- is a Cancer: born between the dates of June 21st and July 22nd ([source](https://www.horoscope.com/zodiac-signs/cancer))\n",
    "- was born in the year of the Rabbit: any of the following years: 2023, 2011, 1999, 1987, 1975, 1963, and 1951 ([source](https://chinesenewyear.net/zodiac/rabbit/)) "
   ]
  },
  {
   "cell_type": "code",
   "execution_count": 25,
   "id": "add3eb24-744e-422f-9599-f9bcaa3b246d",
   "metadata": {},
   "outputs": [],
   "source": [
    "import polars as pl\n",
    "import datetime as dt\n",
    "\n",
    "customers = pl.read_csv(\"data/noahs-customers.csv\",try_parse_dates=True)"
   ]
  },
  {
   "cell_type": "code",
   "execution_count": 30,
   "id": "3d2ec39b-af4c-43f9-bc7d-a5b309b0d434",
   "metadata": {},
   "outputs": [
    {
     "name": "stdout",
     "output_type": "stream",
     "text": [
      "shape: (2, 3)\n",
      "┌────────────┬───────────────┬──────────────┐\n",
      "│ customerid ┆ name          ┆ phone        │\n",
      "│ ---        ┆ ---           ┆ ---          │\n",
      "│ i64        ┆ str           ┆ str          │\n",
      "╞════════════╪═══════════════╪══════════════╡\n",
      "│ 2550       ┆ Robert Morton ┆ 917-288-9635 │\n",
      "│ 9120       ┆ Max Moore     ┆ 315-291-6374 │\n",
      "└────────────┴───────────────┴──────────────┘\n"
     ]
    }
   ],
   "source": [
    "# Phone number is from part 2\n",
    "joshua_peterson_citystatezip = (\n",
    "    customers.filter(pl.col(\"phone\") == \"332-274-4185\").select(\"citystatezip\").item()\n",
    ")\n",
    "neighbors = customers.filter(pl.col(\"citystatezip\") == joshua_peterson_citystatezip)\n",
    "\n",
    "june_21_through_31 = (\n",
    "    pl.col(\"birthdate\").dt.month() == 6,\n",
    "    pl.col(\"birthdate\").dt.day().is_in(list(range(21, 32))),\n",
    ")\n",
    "july_1_through_22 = (\n",
    "    pl.col(\"birthdate\").dt.month() == 7,\n",
    "    pl.col(\"birthdate\").dt.day().is_in(list(range(1, 23))),\n",
    ")\n",
    "\n",
    "# I'd love to learn out how to OR these two filters together\n",
    "neighbors_june_cancer = neighbors.filter(june_21_through_31)\n",
    "neighbors_july_cancer = neighbors.filter(july_1_through_22)\n",
    "\n",
    "neighbors_cancer = pl.concat(\n",
    "    [neighbors_june_cancer, neighbors_july_cancer], how=\"vertical\"\n",
    ")\n",
    "print(neighbors_cancer.select(\"customerid\", \"name\", \"phone\"))\n"
   ]
  },
  {
   "cell_type": "markdown",
   "id": "f0cab868-277b-4570-92c0-baec0b1c800f",
   "metadata": {},
   "source": [
    "Wow, that narrows it down to two neighbors who are Cancers!\n",
    "At this point I could manually inspect their birthdate, but I can just as easily query it."
   ]
  },
  {
   "cell_type": "code",
   "execution_count": 29,
   "id": "267f29ce-3cfc-4d6c-b791-a61a198373e5",
   "metadata": {},
   "outputs": [
    {
     "name": "stdout",
     "output_type": "stream",
     "text": [
      "shape: (1, 3)\n",
      "┌────────────┬───────────────┬──────────────┐\n",
      "│ customerid ┆ name          ┆ phone        │\n",
      "│ ---        ┆ ---           ┆ ---          │\n",
      "│ i64        ┆ str           ┆ str          │\n",
      "╞════════════╪═══════════════╪══════════════╡\n",
      "│ 2550       ┆ Robert Morton ┆ 917-288-9635 │\n",
      "└────────────┴───────────────┴──────────────┘\n"
     ]
    }
   ],
   "source": [
    "print(\n",
    "    neighbors_cancer.filter(\n",
    "        pl.col(\"birthdate\").dt.year().is_in([2023, 2011, 1999, 1987, 1975, 1963, 1951])\n",
    "    ).select(\"customerid\", \"name\", \"phone\")\n",
    ")\n"
   ]
  },
  {
   "cell_type": "markdown",
   "id": "5239aafd-5b91-4c8b-9707-04cc483ba3c6",
   "metadata": {},
   "source": [
    "# Part 4: The Early Bird\n",
    "\n",
    "The neighbor passed the rug along to a woman he met on Tinder.\n",
    "\n",
    "> Thankfully, this woman I met on Tinder came over at **5am** with her bike chain repair kit and some pastries from Noah’s. Apparently she liked to get up before dawn and **claim the first pastries that came out of the oven**.\n",
    "\n",
    "So I need to find the customer who most often is the first to order pastries before 5am."
   ]
  },
  {
   "cell_type": "code",
   "execution_count": 1,
   "id": "fa780bad-75a7-4b3e-b059-5e7839a5cb4b",
   "metadata": {},
   "outputs": [],
   "source": [
    "import polars as pl\n",
    "\n",
    "customers = pl.read_csv(\"data/noahs-customers.csv\",try_parse_dates=True)\n",
    "orders_items = pl.read_csv(\"data/noahs-orders_items.csv\",try_parse_dates=True)\n",
    "orders = pl.read_csv(\"data/noahs-orders.csv\",try_parse_dates=True)\n",
    "products = pl.read_csv(\"data/noahs-products.csv\",try_parse_dates=True)"
   ]
  },
  {
   "cell_type": "markdown",
   "id": "a64eff36-54b3-44d6-8c89-fe4f211006a1",
   "metadata": {},
   "source": [
    "It seems that the sku in the \"products\" table corresponds the department of the store it's from.\n",
    "In this case, bakery items start with 'BKY'."
   ]
  },
  {
   "cell_type": "code",
   "execution_count": 8,
   "id": "5689d8f2-da94-4d55-88ae-0ce98231ea62",
   "metadata": {},
   "outputs": [
    {
     "name": "stdout",
     "output_type": "stream",
     "text": [
      "shape: (20, 4)\n",
      "┌─────────┬─────────────────────────┬────────────────┬────────────────┐\n",
      "│ sku     ┆ desc                    ┆ wholesale_cost ┆ dims_cm        │\n",
      "│ ---     ┆ ---                     ┆ ---            ┆ ---            │\n",
      "│ str     ┆ str                     ┆ f64            ┆ str            │\n",
      "╞═════════╪═════════════════════════╪════════════════╪════════════════╡\n",
      "│ BKY0303 ┆ Raspberry Sufganiah     ┆ 0.89           ┆ 14.4|13.1|1.9  │\n",
      "│ BKY0542 ┆ Caraway Bagel           ┆ 1.1            ┆ 14.7|9.0|3.2   │\n",
      "│ BKY1021 ┆ Raspberry Rugelach      ┆ 1.12           ┆ 14.5|9.6|2.6   │\n",
      "│ BKY1115 ┆ Caraway Bialy           ┆ 1.13           ┆ 14.4|2.2|1.9   │\n",
      "│ BKY3490 ┆ Raspberry Linzer Cookie ┆ 1.0            ┆ 18.6|13.1|10.4 │\n",
      "│ …       ┆ …                       ┆ …              ┆ …              │\n",
      "│ BKY8370 ┆ Sesame Puff             ┆ 0.92           ┆ 17.7|13.3|3.2  │\n",
      "│ BKY8445 ┆ Poppyseed Hamentash     ┆ 0.96           ┆ 12.3|9.1|6.1   │\n",
      "│ BKY9158 ┆ Poppyseed Rugelach      ┆ 1.03           ┆ 18.2|17.5|10.9 │\n",
      "│ BKY9228 ┆ Poppyseed Sufganiah     ┆ 1.22           ┆ 16.0|11.0|8.0  │\n",
      "│ BKY9336 ┆ Poppyseed Babka         ┆ 0.93           ┆ 18.8|16.4|9.3  │\n",
      "└─────────┴─────────────────────────┴────────────────┴────────────────┘\n"
     ]
    }
   ],
   "source": [
    "bakery_items = products.filter(pl.col(\"sku\").str.starts_with(\"BKY\"))\n",
    "print(bakery_items)"
   ]
  },
  {
   "cell_type": "markdown",
   "id": "f0319bbb-ab0d-40fd-9fa9-7e36b2a40f88",
   "metadata": {},
   "source": [
    "Now I'll find the customer who places bakery orders before 5am the most often."
   ]
  },
  {
   "cell_type": "code",
   "execution_count": 17,
   "id": "d7dbec43-471d-4d01-95e1-18c3f3cab5fe",
   "metadata": {},
   "outputs": [
    {
     "name": "stdout",
     "output_type": "stream",
     "text": [
      "shape: (1, 3)\n",
      "┌────────────┬─────────────────┬──────────────┐\n",
      "│ customerid ┆ name            ┆ phone        │\n",
      "│ ---        ┆ ---             ┆ ---          │\n",
      "│ i64        ┆ str             ┆ str          │\n",
      "╞════════════╪═════════════════╪══════════════╡\n",
      "│ 6455       ┆ Brittany Harmon ┆ 716-789-4433 │\n",
      "└────────────┴─────────────────┴──────────────┘\n"
     ]
    }
   ],
   "source": [
    "bakery_items_orders = orders_items.join(bakery_items, on=\"sku\", how=\"inner\")\n",
    "bakery_orders = orders.join(bakery_items_orders, on=\"orderid\", how=\"inner\")\n",
    "\n",
    "early_bird_customer_id = (\n",
    "    bakery_orders.filter(pl.col(\"ordered\").dt.hour() < 5)\n",
    "    .group_by(\"customerid\")\n",
    "    .agg(pl.len())\n",
    "    .top_k(1, by=\"len\")\n",
    "    .item(0,0)\n",
    ")\n",
    "\n",
    "print(\n",
    "    customers.filter(pl.col(\"customerid\") == early_bird_customer_id).select(\n",
    "        \"customerid\",\n",
    "        \"name\", \"phone\"\n",
    "    )\n",
    ")"
   ]
  },
  {
   "cell_type": "markdown",
   "id": "b03b81bd-7d2e-400b-99c2-14685505de08",
   "metadata": {},
   "source": [
    "# Part 5: The Cat Lady\n",
    "\n",
    "> a woman in Staten Island came to pick it up... She said “I only have ten or eleven cats, and anyway they are getting quite old now...\n",
    "\n",
    "I visually inspected the \"products\" table and found the pet food section.\n",
    "They specifically sell senior cat food!\n",
    "\n",
    "The goal is:\n",
    "- find people in Staten Island\n",
    "- find which one buys the most senior cat food"
   ]
  },
  {
   "cell_type": "code",
   "execution_count": 3,
   "id": "3977cc38-d059-4ff5-9c79-2a4c4b12ed5a",
   "metadata": {},
   "outputs": [],
   "source": [
    "import polars as pl\n",
    "\n",
    "customers = pl.read_csv(\"data/noahs-customers.csv\",try_parse_dates=True)\n",
    "orders_items = pl.read_csv(\"data/noahs-orders_items.csv\",try_parse_dates=True)\n",
    "orders = pl.read_csv(\"data/noahs-orders.csv\",try_parse_dates=True)\n",
    "products = pl.read_csv(\"data/noahs-products.csv\",try_parse_dates=True)"
   ]
  },
  {
   "cell_type": "code",
   "execution_count": 5,
   "id": "8fffb5c3-412d-42f4-a745-0f2c635fd1ff",
   "metadata": {},
   "outputs": [
    {
     "name": "stdout",
     "output_type": "stream",
     "text": [
      "shape: (1, 3)\n",
      "┌────────────┬───────────────┬──────────────┐\n",
      "│ customerid ┆ name          ┆ phone        │\n",
      "│ ---        ┆ ---           ┆ ---          │\n",
      "│ i64        ┆ str           ┆ str          │\n",
      "╞════════════╪═══════════════╪══════════════╡\n",
      "│ 3068       ┆ Nicole Wilson ┆ 631-507-6048 │\n",
      "└────────────┴───────────────┴──────────────┘\n"
     ]
    }
   ],
   "source": [
    "# Find the staten islanders\n",
    "staten_islanders = customers.filter(\n",
    "    pl.col(\"citystatezip\").str.starts_with(\"Staten Island\")\n",
    ")\n",
    "\n",
    "# Find the senior cat food items\n",
    "senior_cat_food_products = products.filter(\n",
    "    pl.col(\"desc\").str.contains(\"Senior Cat Food\")\n",
    ")\n",
    "\n",
    "# Find who has bought the most senior cat food among all customers\n",
    "orders_items_with_cat_food = orders_items.join(\n",
    "    senior_cat_food_products, on=\"sku\", how=\"inner\"\n",
    ")\n",
    "orders_with_cat_food = orders.join(\n",
    "    orders_items_with_cat_food, on=\"orderid\", how=\"inner\"\n",
    ")\n",
    "cat_food_mvp = (\n",
    "    orders_with_cat_food.group_by(\"customerid\")\n",
    "    .agg(pl.col(\"qty\").sum())\n",
    "    .sort(\"qty\", descending=True)\n",
    "    .limit(1)\n",
    "    .select(\"customerid\")\n",
    "    .item()\n",
    ")\n",
    "\n",
    "print(customers.filter(pl.col(\"customerid\") == cat_food_mvp).select(\"customerid\", \"name\", \"phone\"))\n"
   ]
  },
  {
   "cell_type": "markdown",
   "id": "879895f5-3260-4a34-bdbc-743077d65f25",
   "metadata": {},
   "source": [
    "# Part 6: The Bargain Hunter\n",
    "\n",
    "> She’s always been very frugal, and she clips every coupon and shops every sale at Noah’s Market. In fact I like to tease her that Noah actually loses money whenever she comes in the store.\n",
    ">\n",
    "> Once the subway fare increased, she stopped coming to visit me... I hope she remembers to invite me to the family reunion next year.\n",
    "\n",
    "If the market really does lose money whenever she purchases something, it means that items she's buying cost less per-unit than they do wholesale.\n",
    "\n",
    "In other words, the market is **selling items at a loss** to Nicole Wilson's cousin."
   ]
  },
  {
   "cell_type": "code",
   "execution_count": 43,
   "id": "03fc4f94-3b53-41bf-8d85-73147b88f768",
   "metadata": {},
   "outputs": [],
   "source": [
    "import polars as pl\n",
    "\n",
    "customers = pl.read_csv(\"data/noahs-customers.csv\",try_parse_dates=True)\n",
    "orders_items = pl.read_csv(\"data/noahs-orders_items.csv\",try_parse_dates=True)\n",
    "orders = pl.read_csv(\"data/noahs-orders.csv\",try_parse_dates=True)\n",
    "products = pl.read_csv(\"data/noahs-products.csv\",try_parse_dates=True)"
   ]
  },
  {
   "cell_type": "markdown",
   "id": "755d59db-397a-41de-8bef-02d3ca6cfa57",
   "metadata": {},
   "source": [
    "## But first, what's a subway? (Red herring) \n",
    "\n",
    "Can we use the information that her cousin stopped visiting her due to subway fare increase? This confused me at first, because all of the trains on Staten Island are aboveground. Aren't subways *below ground?*. \n",
    "\n",
    "But after poking around online, it seems like the whole system is referred to as \"The Subway\" citywide, regardless if many sections are aboveground.\n",
    "To get technical, Staten Island Railway is \"operated by the New York City Transit Authority **Department of Subways**\" and \"the line uses modified R44 and R211S **subway cars**\" according to [its Wikipedia page](https://en.wikipedia.org/wiki/Staten_Island_Railway).\n",
    "\n",
    "One important piece of info is that Staten Island is *not* connected to any other part of NYC by rail.\n",
    "So maybe I'll get lucky and find only one cousin (someone with the same last name as the lady from part 5, hopefully) who lives on Staten Island.\n"
   ]
  },
  {
   "cell_type": "code",
   "execution_count": 44,
   "id": "2b3cc405-107b-4813-b669-93ee54dc078f",
   "metadata": {},
   "outputs": [
    {
     "name": "stdout",
     "output_type": "stream",
     "text": [
      "shape: (4, 2)\n",
      "┌─────────────────┬──────────────┐\n",
      "│ name            ┆ phone        │\n",
      "│ ---             ┆ ---          │\n",
      "│ str             ┆ str          │\n",
      "╞═════════════════╪══════════════╡\n",
      "│ Nicole Wilson   ┆ 631-507-6048 │\n",
      "│ Michaela Wilson ┆ 315-859-7694 │\n",
      "│ Thomas Wilson   ┆ 914-910-1529 │\n",
      "│ Edwin Wilson    ┆ 516-767-0295 │\n",
      "└─────────────────┴──────────────┘\n"
     ]
    }
   ],
   "source": [
    "print(\n",
    "    customers.filter(\n",
    "        pl.col(\"citystatezip\").str.starts_with(\"Staten Island\"),\n",
    "        pl.col(\"name\").str.ends_with(\"Wilson\"),\n",
    "    ).select(\"name\", \"phone\")\n",
    ")"
   ]
  },
  {
   "cell_type": "markdown",
   "id": "37a0b865-0dd9-4b37-8fec-887d467cbd9d",
   "metadata": {},
   "source": [
    "Alas, none of those people are the answer.\n",
    "I guess it was just to highlight her cheapness.\n",
    "\n",
    "It was still a fun detour, though."
   ]
  },
  {
   "cell_type": "markdown",
   "id": "51015bb2-2e55-46d6-b7ca-e1132d8e8a25",
   "metadata": {},
   "source": [
    "## Items sold at a loss\n",
    "\n",
    "I'll make a table where I compute the profit made on every order."
   ]
  },
  {
   "cell_type": "code",
   "execution_count": 45,
   "id": "6f3bc297-5ef5-4c13-a971-5c753dcc95fd",
   "metadata": {},
   "outputs": [
    {
     "name": "stdout",
     "output_type": "stream",
     "text": [
      "shape: (213_232, 2)\n",
      "┌─────────┬────────┐\n",
      "│ orderid ┆ profit │\n",
      "│ ---     ┆ ---    │\n",
      "│ i64     ┆ f64    │\n",
      "╞═════════╪════════╡\n",
      "│ 65819   ┆ 3.11   │\n",
      "│ 31783   ┆ 0.64   │\n",
      "│ 16655   ┆ 0.49   │\n",
      "│ 46089   ┆ 0.97   │\n",
      "│ 56649   ┆ 2.06   │\n",
      "│ …       ┆ …      │\n",
      "│ 2027    ┆ 0.33   │\n",
      "│ 173325  ┆ 0.39   │\n",
      "│ 92266   ┆ 2.21   │\n",
      "│ 16890   ┆ 1.51   │\n",
      "│ 165218  ┆ 1.04   │\n",
      "└─────────┴────────┘\n"
     ]
    }
   ],
   "source": [
    "orders_items_including_profit = products.join(\n",
    "    orders_items, on=\"sku\", how=\"inner\"\n",
    ").with_columns(profit=pl.col(\"unit_price\") - pl.col(\"wholesale_cost\"))\n",
    "\n",
    "profit_per_order = orders_items_including_profit.group_by(\"orderid\").agg(pl.col(\"profit\").sum())\n",
    "print(profit_per_order)"
   ]
  },
  {
   "cell_type": "markdown",
   "id": "99580c69-233e-4293-8782-353a7ac7f52e",
   "metadata": {},
   "source": [
    "Then I'll find the customer who has the lowest (since it's negative) total profit summed across their orders."
   ]
  },
  {
   "cell_type": "code",
   "execution_count": 46,
   "id": "2d4a5cf3-c85b-4128-9280-02a8da7ce29f",
   "metadata": {},
   "outputs": [
    {
     "name": "stdout",
     "output_type": "stream",
     "text": [
      "shape: (5, 2)\n",
      "┌────────────┬────────┐\n",
      "│ customerid ┆ profit │\n",
      "│ ---        ┆ ---    │\n",
      "│ i64        ┆ f64    │\n",
      "╞════════════╪════════╡\n",
      "│ 4167       ┆ -85.59 │\n",
      "│ 8286       ┆ -1.04  │\n",
      "│ 7676       ┆ -0.17  │\n",
      "│ 6309       ┆ -0.04  │\n",
      "│ 2908       ┆ -0.02  │\n",
      "└────────────┴────────┘\n"
     ]
    }
   ],
   "source": [
    "# Create a table with orderid, customerid, and profit\n",
    "orders_including_profits = orders.select(\"orderid\",\"customerid\").join(profit_per_order, on=\"orderid\", how=\"inner\")\n",
    "\n",
    "# Group by customer id and take the sum of the profit\n",
    "print(orders_including_profits.group_by(\"customerid\").agg(pl.col(\"profit\").sum()).sort(\"profit\").head())"
   ]
  },
  {
   "cell_type": "markdown",
   "id": "863f28e2-ee98-47ef-8135-7af089cd4c88",
   "metadata": {},
   "source": [
    "It seems that customer with ID 4167 has costed Noah's Market $85.59 over the course of their career as a penny-pincher."
   ]
  },
  {
   "cell_type": "code",
   "execution_count": 48,
   "id": "0e1fcc8c-5a10-4d0d-a1c2-a190dae87693",
   "metadata": {},
   "outputs": [
    {
     "name": "stdout",
     "output_type": "stream",
     "text": [
      "shape: (1, 3)\n",
      "┌────────────┬─────────────┬──────────────┐\n",
      "│ customerid ┆ name        ┆ phone        │\n",
      "│ ---        ┆ ---         ┆ ---          │\n",
      "│ i64        ┆ str         ┆ str          │\n",
      "╞════════════╪═════════════╪══════════════╡\n",
      "│ 4167       ┆ Sherri Long ┆ 585-838-9161 │\n",
      "└────────────┴─────────────┴──────────────┘\n"
     ]
    }
   ],
   "source": [
    "print(customers.filter(pl.col(\"customerid\") == 4167).select(\"customerid\", \"name\",\"phone\"))"
   ]
  },
  {
   "cell_type": "markdown",
   "id": "9eb41b13-3ec3-45ac-8b11-739b55ed8eaf",
   "metadata": {},
   "source": [
    "# Part 7: The Meet Cute\n",
    "\n",
    "> I turned around to see this cute guy holding an item I had bought. He said, ‘I got the same thing!’ We laughed about it and wound up swapping items because I wanted the color he got.\n",
    "> I asked him to get some food with me and we spent the rest of the day together.\n",
    "\n",
    "Step 1: Find all the items with colors in their names. \n",
    "After inspecting the products table, it seems that colors are written in **lower-case** at the end of the product description in parentheses.\n",
    "I'll separate the product color into its own column."
   ]
  },
  {
   "cell_type": "code",
   "execution_count": 240,
   "id": "6d792332-cbe7-4aaa-b651-7d13ddddce56",
   "metadata": {},
   "outputs": [],
   "source": [
    "import polars as pl\n",
    "\n",
    "customers = pl.read_csv(\"data/noahs-customers.csv\",try_parse_dates=True)\n",
    "orders_items = pl.read_csv(\"data/noahs-orders_items.csv\",try_parse_dates=True)\n",
    "orders = pl.read_csv(\"data/noahs-orders.csv\",try_parse_dates=True)\n",
    "products = pl.read_csv(\"data/noahs-products.csv\",try_parse_dates=True)"
   ]
  },
  {
   "cell_type": "code",
   "execution_count": 248,
   "id": "402a0f34-7858-4b91-a6f5-8e81fcbc0907",
   "metadata": {},
   "outputs": [
    {
     "name": "stdout",
     "output_type": "stream",
     "text": [
      "shape: (84, 3)\n",
      "┌─────────┬──────────────────────┬─────────┐\n",
      "│ sku     ┆ desc                 ┆ color   │\n",
      "│ ---     ┆ ---                  ┆ ---     │\n",
      "│ str     ┆ str                  ┆ str     │\n",
      "╞═════════╪══════════════════════╪═════════╡\n",
      "│ COL0037 ┆ Noah's Jewelry       ┆ green   │\n",
      "│ COL0065 ┆ Noah's Jewelry       ┆ mauve   │\n",
      "│ COL0166 ┆ Noah's Action Figure ┆ blue    │\n",
      "│ COL0167 ┆ Noah's Bobblehead    ┆ blue    │\n",
      "│ COL0483 ┆ Noah's Action Figure ┆ mauve   │\n",
      "│ …       ┆ …                    ┆ …       │\n",
      "│ COL9349 ┆ Noah's Action Figure ┆ orange  │\n",
      "│ COL9420 ┆ Noah's Jewelry       ┆ amber   │\n",
      "│ COL9773 ┆ Noah's Poster        ┆ magenta │\n",
      "│ COL9819 ┆ Noah's Lunchbox      ┆ blue    │\n",
      "│ COL9948 ┆ Noah's Jewelry       ┆ magenta │\n",
      "└─────────┴──────────────────────┴─────────┘\n"
     ]
    }
   ],
   "source": [
    "# Products with colors in the name always end in e.g. `... (blue)`, so use a regex that pulls that color name out\n",
    "color_name_filter = r\"(.+) \\(([[:lower:]]+)\\)\"\n",
    "colorful_products = products.filter(pl.col(\"desc\").str.contains(color_name_filter))\n",
    "products_with_colors_extracted = colorful_products.select(\n",
    "    pl.col(\"sku\"),\n",
    "    pl.col(\"desc\").str.extract(color_name_filter, group_index=1),\n",
    "    pl.col(\"desc\").str.extract(color_name_filter, group_index=2).alias(\"color\")\n",
    ")\n",
    "print(products_with_colors_extracted)"
   ]
  },
  {
   "cell_type": "markdown",
   "id": "a650dc6f-592b-4878-8de6-aa681064d19e",
   "metadata": {},
   "source": [
    "Ok now I'll find all orders with items that contain \"colorful products\"."
   ]
  },
  {
   "cell_type": "code",
   "execution_count": 249,
   "id": "ad39f1aa-50ae-4d53-a0ad-2882da9c47c0",
   "metadata": {},
   "outputs": [
    {
     "name": "stdout",
     "output_type": "stream",
     "text": [
      "shape: (28_012, 6)\n",
      "┌─────────┬─────────┬─────┬────────────┬──────────────────────┬─────────┐\n",
      "│ orderid ┆ sku     ┆ qty ┆ unit_price ┆ desc                 ┆ color   │\n",
      "│ ---     ┆ ---     ┆ --- ┆ ---        ┆ ---                  ┆ ---     │\n",
      "│ i64     ┆ str     ┆ i64 ┆ f64        ┆ str                  ┆ str     │\n",
      "╞═════════╪═════════╪═════╪════════════╪══════════════════════╪═════════╡\n",
      "│ 1014    ┆ COL4117 ┆ 1   ┆ 4.55       ┆ Noah's Poster        ┆ yellow  │\n",
      "│ 1015    ┆ COL8357 ┆ 1   ┆ 13.48      ┆ Noah's Lunchbox      ┆ mauve   │\n",
      "│ 1018    ┆ COL6388 ┆ 1   ┆ 3.72       ┆ Noah's Gift Box      ┆ magenta │\n",
      "│ 1040    ┆ COL7454 ┆ 1   ┆ 10.65      ┆ Noah's Jersey        ┆ mauve   │\n",
      "│ 1041    ┆ COL2141 ┆ 1   ┆ 5.87       ┆ Noah's Bobblehead    ┆ puce    │\n",
      "│ …       ┆ …       ┆ …   ┆ …          ┆ …                    ┆ …       │\n",
      "│ 214217  ┆ COL9349 ┆ 1   ┆ 18.31      ┆ Noah's Action Figure ┆ orange  │\n",
      "│ 214218  ┆ COL0837 ┆ 1   ┆ 4.97       ┆ Noah's Poster        ┆ mauve   │\n",
      "│ 214227  ┆ COL1263 ┆ 1   ┆ 21.15      ┆ Noah's Action Figure ┆ yellow  │\n",
      "│ 214231  ┆ COL3430 ┆ 1   ┆ 13.45      ┆ Noah's Lunchbox      ┆ green   │\n",
      "│ 214232  ┆ COL6388 ┆ 1   ┆ 4.25       ┆ Noah's Gift Box      ┆ magenta │\n",
      "└─────────┴─────────┴─────┴────────────┴──────────────────────┴─────────┘\n"
     ]
    }
   ],
   "source": [
    "orders_with_colorful_products = orders_items.join(products_with_colors_extracted, on=\"sku\", how=\"inner\")\n",
    "print(orders_with_colorful_products)"
   ]
  },
  {
   "cell_type": "markdown",
   "id": "eb898533-b1f7-4e8e-a3ee-7b8d88df47f3",
   "metadata": {},
   "source": [
    "And now I have to find consecutive orders (the orderids auto-increment by one) which have the same item but a different color...\n",
    "This is pretty hard for me conceptually, because I don't know how to compare rows only if they're sequential.\n",
    "\n",
    "Maybe I could do a group_by on \"desc\" (which no longer includes color), collect the orderids into a list, and compare the consecutive orders in those lists."
   ]
  },
  {
   "cell_type": "code",
   "execution_count": 250,
   "id": "05e61e3e-f3a9-4972-96dd-b62a9e4d2d9b",
   "metadata": {},
   "outputs": [
    {
     "name": "stdout",
     "output_type": "stream",
     "text": [
      "shape: (7, 2)\n",
      "┌──────────────────────┬────────────────────────┐\n",
      "│ desc                 ┆ orderid                │\n",
      "│ ---                  ┆ ---                    │\n",
      "│ str                  ┆ list[i64]              │\n",
      "╞══════════════════════╪════════════════════════╡\n",
      "│ Noah's Action Figure ┆ [1073, 1147, … 214227] │\n",
      "│ Noah's Bobblehead    ┆ [1041, 1071, … 214150] │\n",
      "│ Noah's Gift Box      ┆ [1018, 1167, … 214232] │\n",
      "│ Noah's Jersey        ┆ [1040, 1066, … 214184] │\n",
      "│ Noah's Jewelry       ┆ [1053, 1086, … 214202] │\n",
      "│ Noah's Lunchbox      ┆ [1015, 1086, … 214231] │\n",
      "│ Noah's Poster        ┆ [1014, 1047, … 214218] │\n",
      "└──────────────────────┴────────────────────────┘\n"
     ]
    }
   ],
   "source": [
    "orders_by_colorful_products = (\n",
    "    orders_with_colorful_products.group_by(\"desc\")\n",
    "    .agg(pl.col(\"orderid\").sort()) # Must sort orders for pairwise filter later\n",
    "    .sort(\"desc\")\n",
    ")\n",
    "print(orders_by_colorful_products)"
   ]
  },
  {
   "cell_type": "markdown",
   "id": "da064e3a-462a-47e2-8eff-de2c73edf0d5",
   "metadata": {},
   "source": [
    "For each product, I must find all the order ids that are consecutive.\n",
    "This is called going pairwise through the list, and luckily python itertools implements that for me."
   ]
  },
  {
   "cell_type": "code",
   "execution_count": 253,
   "id": "8f4a72eb-7ddc-4c30-beee-46c1b776cb49",
   "metadata": {},
   "outputs": [
    {
     "name": "stdout",
     "output_type": "stream",
     "text": [
      "shape: (550, 2)\n",
      "┌──────────────────────┬─────────────────────┐\n",
      "│ desc                 ┆ consecutive_orderid │\n",
      "│ ---                  ┆ ---                 │\n",
      "│ str                  ┆ list[i64]           │\n",
      "╞══════════════════════╪═════════════════════╡\n",
      "│ Noah's Action Figure ┆ [2220, 2221]        │\n",
      "│ Noah's Action Figure ┆ [4573, 4574]        │\n",
      "│ Noah's Action Figure ┆ [4946, 4947]        │\n",
      "│ Noah's Action Figure ┆ [11945, 11946]      │\n",
      "│ Noah's Action Figure ┆ [13250, 13251]      │\n",
      "│ …                    ┆ …                   │\n",
      "│ Noah's Poster        ┆ [201437, 201438]    │\n",
      "│ Noah's Poster        ┆ [202011, 202012]    │\n",
      "│ Noah's Poster        ┆ [204001, 204002]    │\n",
      "│ Noah's Poster        ┆ [205182, 205183]    │\n",
      "│ Noah's Poster        ┆ [210059, 210060]    │\n",
      "└──────────────────────┴─────────────────────┘\n"
     ]
    }
   ],
   "source": [
    "from itertools import pairwise\n",
    "\n",
    "def filter_consecutive_ids(series: pl.List(pl.Int64)) -> list[tuple[int, int]]:\n",
    "    output = []\n",
    "    for pair in pairwise(series):\n",
    "        if pair[1] - pair[0] == 1:\n",
    "            output.append(pair)\n",
    "    return output\n",
    "\n",
    "items_ordered_consecutively = orders_by_colorful_products.select(\n",
    "    pl.col(\"desc\"),\n",
    "    pl.col(\"orderid\").map_elements(\n",
    "        filter_consecutive_ids, return_dtype=pl.List(pl.List(pl.Int64))\n",
    "    ).alias(\"consecutive_orderid\"),\n",
    ").explode(\"consecutive_orderid\")\n",
    "print(items_ordered_consecutively)\n"
   ]
  },
  {
   "cell_type": "markdown",
   "id": "90fd4bf5-c0a2-4670-8aae-8f3816a1cc97",
   "metadata": {},
   "source": [
    "This is a table of all the consecutive orders where a specific item (ignoring its color) was bought.\n",
    "I now need to filter for the rows where the color changed between each order in the list."
   ]
  },
  {
   "cell_type": "code",
   "execution_count": 254,
   "id": "2bb3417c-9915-49c2-912b-f2c0be014896",
   "metadata": {},
   "outputs": [
    {
     "name": "stdout",
     "output_type": "stream",
     "text": [
      "shape: (401, 3)\n",
      "┌──────────────────────┬─────────────────────┬─────────────────────┐\n",
      "│ desc                 ┆ consecutive_orderid ┆ color               │\n",
      "│ ---                  ┆ ---                 ┆ ---                 │\n",
      "│ str                  ┆ list[i64]           ┆ list[str]           │\n",
      "╞══════════════════════╪═════════════════════╪═════════════════════╡\n",
      "│ Noah's Action Figure ┆ [2220, 2221]        ┆ [\"orange\", \"amber\"] │\n",
      "│ Noah's Action Figure ┆ [4573, 4574]        ┆ [\"white\", \"purple\"] │\n",
      "│ Noah's Action Figure ┆ [4946, 4947]        ┆ [\"amber\", \"purple\"] │\n",
      "│ Noah's Action Figure ┆ [13250, 13251]      ┆ [\"azure\", \"purple\"] │\n",
      "│ Noah's Action Figure ┆ [13649, 13650]      ┆ [\"yellow\", \"green\"] │\n",
      "│ …                    ┆ …                   ┆ …                   │\n",
      "│ Noah's Poster        ┆ [189701, 189702]    ┆ [\"blue\", \"white\"]   │\n",
      "│ Noah's Poster        ┆ [197802, 197803]    ┆ [\"red\", \"azure\"]    │\n",
      "│ Noah's Poster        ┆ [201437, 201438]    ┆ [\"azure\", \"red\"]    │\n",
      "│ Noah's Poster        ┆ [204001, 204002]    ┆ [\"green\", \"yellow\"] │\n",
      "│ Noah's Poster        ┆ [210059, 210060]    ┆ [\"purple\", \"azure\"] │\n",
      "└──────────────────────┴─────────────────────┴─────────────────────┘\n"
     ]
    }
   ],
   "source": [
    "def get_orderids_to_item_color(series: pl.List(pl.Int64)) -> pl.List(pl.String):\n",
    "    # orders_with_colorful_products is a global variable :)\n",
    "    return orders_with_colorful_products.filter(pl.col(\"orderid\").is_in(series)).select(\n",
    "        \"color\"\n",
    "    )\n",
    "\n",
    "# - Add a 'color' column that has the color of each item from the corresponding orderid list\n",
    "# - Filter for rows where exactly one item was bought in each order (length 2)\n",
    "# - Filter for rows where the color list has two unique elements\n",
    "items_ordered_consecutively_with_color = items_ordered_consecutively.select(\n",
    "    pl.col(\"desc\"),\n",
    "    pl.col(\"consecutive_orderid\"),\n",
    "    pl.col(\"consecutive_orderid\")\n",
    "    .map_elements(get_orderids_to_item_color, return_dtype=pl.List(pl.String))\n",
    "    .alias(\"color\"),\n",
    ").filter(pl.col(\"color\").list.len() == 2).filter(pl.col(\"color\").list.n_unique() == 2)\n",
    "print(items_ordered_consecutively_with_color)"
   ]
  },
  {
   "cell_type": "markdown",
   "id": "00f4a755-148d-4271-8585-c0e7aa1974fd",
   "metadata": {},
   "source": [
    "I have the above table with 401 orders that are consecutive and have the same item in a different color.\n",
    "\n",
    "I'll find the rows where either orderid belongs to Sherri Long, the woman from part 6."
   ]
  },
  {
   "cell_type": "code",
   "execution_count": 256,
   "id": "21acdc40-f449-49ca-b5e8-611d624460a8",
   "metadata": {},
   "outputs": [
    {
     "name": "stdout",
     "output_type": "stream",
     "text": [
      "shape: (1, 3)\n",
      "┌───────────────┬─────────────────────┬─────────────────────┐\n",
      "│ desc          ┆ consecutive_orderid ┆ color               │\n",
      "│ ---           ┆ ---                 ┆ ---                 │\n",
      "│ str           ┆ list[i64]           ┆ list[str]           │\n",
      "╞═══════════════╪═════════════════════╪═════════════════════╡\n",
      "│ Noah's Poster ┆ [70502, 70503]      ┆ [\"orange\", \"azure\"] │\n",
      "└───────────────┴─────────────────────┴─────────────────────┘\n"
     ]
    }
   ],
   "source": [
    "part6_customerid = 4167\n",
    "part6_customer_orderids = (\n",
    "    orders.filter(pl.col(\"customerid\") == part6_customerid)\n",
    "    .select(\"orderid\")\n",
    "    .to_series()\n",
    ")\n",
    "\n",
    "colorful_orders_from_part6_customer = items_ordered_consecutively_with_color.filter(\n",
    "    pl.col(\"consecutive_orderid\")\n",
    "    .list.eval(pl.element().is_in(part6_customer_orderids))\n",
    "    .list.any()\n",
    ")\n",
    "print(colorful_orders_from_part6_customer)"
   ]
  },
  {
   "cell_type": "markdown",
   "id": "0cb2f325-a7d9-4d28-adda-67db2fedd6d0",
   "metadata": {},
   "source": [
    "I'll programatically get the order id + customer id of the customer that is not Sherri Long from the above list of orderids."
   ]
  },
  {
   "cell_type": "code",
   "execution_count": 257,
   "id": "ca4fb30c-34e0-422a-9a50-7703077d52be",
   "metadata": {},
   "outputs": [
    {
     "name": "stdout",
     "output_type": "stream",
     "text": [
      "shape: (1, 3)\n",
      "┌────────────┬──────────────┬──────────────┐\n",
      "│ customerid ┆ name         ┆ phone        │\n",
      "│ ---        ┆ ---          ┆ ---          │\n",
      "│ i64        ┆ str          ┆ str          │\n",
      "╞════════════╪══════════════╪══════════════╡\n",
      "│ 5783       ┆ Carlos Myers ┆ 838-335-7157 │\n",
      "└────────────┴──────────────┴──────────────┘\n"
     ]
    }
   ],
   "source": [
    "print(\n",
    "    orders_from_part6_customer.explode(\"consecutive_orderid\")\n",
    "    .filter(pl.col(\"consecutive_orderid\").is_in(part6_customer_orderids).not_())\n",
    "    .join(orders, left_on=\"consecutive_orderid\", right_on=\"orderid\", how=\"inner\")\n",
    "    .join(customers, on=\"customerid\", how=\"inner\")\n",
    "    .select(\"customerid\", \"name\", \"phone\")\n",
    ")\n"
   ]
  },
  {
   "cell_type": "markdown",
   "id": "58baf068-0bb5-47d0-89f2-1c9a276b01e4",
   "metadata": {},
   "source": [
    "# Part 8: The Collector\n",
    "\n",
    "> I gave it to my sister. She wound up getting a newer and more expensive carpet, so she gave it to an acquaintance of hers who collects all sorts of junk. Apparently he owns an entire set of Noah’s collectibles!\n",
    "\n",
    "Giving it to his sister seems like a red herring, and there's not much info I can glean from that.\n",
    "So instead, I'll focus on the acquaintance.\n",
    "\n",
    "First step is to figure out what the collectibles look like in the database.\n",
    "I learn from visual inspection that collectibles have a `sku` starting with \"COL\"."
   ]
  },
  {
   "cell_type": "code",
   "execution_count": 38,
   "id": "321ca49f-9418-4255-9183-46c47a8c1935",
   "metadata": {},
   "outputs": [],
   "source": [
    "import polars as pl\n",
    "\n",
    "customers = pl.read_csv(\"data/noahs-customers.csv\",try_parse_dates=True)\n",
    "orders_items = pl.read_csv(\"data/noahs-orders_items.csv\",try_parse_dates=True)\n",
    "orders = pl.read_csv(\"data/noahs-orders.csv\",try_parse_dates=True)\n",
    "products = pl.read_csv(\"data/noahs-products.csv\",try_parse_dates=True)"
   ]
  },
  {
   "cell_type": "code",
   "execution_count": 39,
   "id": "0804a806-03b0-4dc5-810f-7c226732d0f2",
   "metadata": {},
   "outputs": [
    {
     "name": "stdout",
     "output_type": "stream",
     "text": [
      "shape: (85, 4)\n",
      "┌─────────┬───────────────────────────────┬────────────────┬────────────────┐\n",
      "│ sku     ┆ desc                          ┆ wholesale_cost ┆ dims_cm        │\n",
      "│ ---     ┆ ---                           ┆ ---            ┆ ---            │\n",
      "│ str     ┆ str                           ┆ f64            ┆ str            │\n",
      "╞═════════╪═══════════════════════════════╪════════════════╪════════════════╡\n",
      "│ COL0037 ┆ Noah's Jewelry (green)        ┆ 28.32          ┆ 17.4|11.2|5.7  │\n",
      "│ COL0041 ┆ Noah's Ark Model (HO Scale)   ┆ 2487.35        ┆ 7.2|4.3|0.4    │\n",
      "│ COL0065 ┆ Noah's Jewelry (mauve)        ┆ 33.52          ┆ 19.0|12.2|10.5 │\n",
      "│ COL0166 ┆ Noah's Action Figure (blue)   ┆ 13.98          ┆ 12.1|7.7|7.2   │\n",
      "│ COL0167 ┆ Noah's Bobblehead (blue)      ┆ 5.36           ┆ 8.9|5.6|0.6    │\n",
      "│ …       ┆ …                             ┆ …              ┆ …              │\n",
      "│ COL9349 ┆ Noah's Action Figure (orange) ┆ 15.47          ┆ 16.6|12.9|11.9 │\n",
      "│ COL9420 ┆ Noah's Jewelry (amber)        ┆ 30.01          ┆ 13.8|9.1|4.9   │\n",
      "│ COL9773 ┆ Noah's Poster (magenta)       ┆ 4.13           ┆ 7.2|4.9|1.9    │\n",
      "│ COL9819 ┆ Noah's Lunchbox (blue)        ┆ 9.87           ┆ 14.2|4.1|3.3   │\n",
      "│ COL9948 ┆ Noah's Jewelry (magenta)      ┆ 32.97          ┆ 18.0|17.5|6.2  │\n",
      "└─────────┴───────────────────────────────┴────────────────┴────────────────┘\n"
     ]
    }
   ],
   "source": [
    "collectibles = products.filter(pl.col(\"sku\").str.starts_with(\"COL\"))\n",
    "print(collectibles)"
   ]
  },
  {
   "cell_type": "markdown",
   "id": "e9411f85-3e56-4b23-a908-5e53c05a9332",
   "metadata": {},
   "source": [
    "I'll find all the orders that contain any collectibles."
   ]
  },
  {
   "cell_type": "code",
   "execution_count": 40,
   "id": "3413a29e-260a-449c-8c21-3cb52838a726",
   "metadata": {},
   "outputs": [
    {
     "name": "stdout",
     "output_type": "stream",
     "text": [
      "shape: (28_013, 7)\n",
      "┌─────────┬─────────┬─────┬────────────┬─────────────────────────┬────────────────┬────────────────┐\n",
      "│ orderid ┆ sku     ┆ qty ┆ unit_price ┆ desc                    ┆ wholesale_cost ┆ dims_cm        │\n",
      "│ ---     ┆ ---     ┆ --- ┆ ---        ┆ ---                     ┆ ---            ┆ ---            │\n",
      "│ i64     ┆ str     ┆ i64 ┆ f64        ┆ str                     ┆ f64            ┆ str            │\n",
      "╞═════════╪═════════╪═════╪════════════╪═════════════════════════╪════════════════╪════════════════╡\n",
      "│ 1014    ┆ COL4117 ┆ 1   ┆ 4.55       ┆ Noah's Poster (yellow)  ┆ 3.63           ┆ 19.7|12.0|6.3  │\n",
      "│ 1015    ┆ COL8357 ┆ 1   ┆ 13.48      ┆ Noah's Lunchbox (mauve) ┆ 9.21           ┆ 19.9|17.4|9.8  │\n",
      "│ 1018    ┆ COL6388 ┆ 1   ┆ 3.72       ┆ Noah's Gift Box         ┆ 3.28           ┆ 19.0|9.5|2.2   │\n",
      "│         ┆         ┆     ┆            ┆ (magenta)               ┆                ┆                │\n",
      "│ 1040    ┆ COL7454 ┆ 1   ┆ 10.65      ┆ Noah's Jersey (mauve)   ┆ 8.19           ┆ 19.1|18.2|3.5  │\n",
      "│ 1041    ┆ COL2141 ┆ 1   ┆ 5.87       ┆ Noah's Bobblehead       ┆ 4.85           ┆ 19.0|10.4|10.2 │\n",
      "│         ┆         ┆     ┆            ┆ (puce)                  ┆                ┆                │\n",
      "│ …       ┆ …       ┆ …   ┆ …          ┆ …                       ┆ …              ┆ …              │\n",
      "│ 214217  ┆ COL9349 ┆ 1   ┆ 18.31      ┆ Noah's Action Figure    ┆ 15.47          ┆ 16.6|12.9|11.9 │\n",
      "│         ┆         ┆     ┆            ┆ (orange)                ┆                ┆                │\n",
      "│ 214218  ┆ COL0837 ┆ 1   ┆ 4.97       ┆ Noah's Poster (mauve)   ┆ 3.86           ┆ 13.0|3.3|0.8   │\n",
      "│ 214227  ┆ COL1263 ┆ 1   ┆ 21.15      ┆ Noah's Action Figure    ┆ 16.5           ┆ 10.2|7.5|3.6   │\n",
      "│         ┆         ┆     ┆            ┆ (yellow)                ┆                ┆                │\n",
      "│ 214231  ┆ COL3430 ┆ 1   ┆ 13.45      ┆ Noah's Lunchbox (green) ┆ 10.22          ┆ 16.0|6.9|1.9   │\n",
      "│ 214232  ┆ COL6388 ┆ 1   ┆ 4.25       ┆ Noah's Gift Box         ┆ 3.28           ┆ 19.0|9.5|2.2   │\n",
      "│         ┆         ┆     ┆            ┆ (magenta)               ┆                ┆                │\n",
      "└─────────┴─────────┴─────┴────────────┴─────────────────────────┴────────────────┴────────────────┘\n"
     ]
    }
   ],
   "source": [
    "orders_items_collectibles = orders_items.join(collectibles, on=\"sku\", how=\"inner\")\n",
    "print(orders_items_collectibles)"
   ]
  },
  {
   "cell_type": "markdown",
   "id": "72076372-3357-49d5-974c-43286ad7fb20",
   "metadata": {},
   "source": [
    "Now I'll get the corresponding customerid for each of those rows."
   ]
  },
  {
   "cell_type": "code",
   "execution_count": 41,
   "id": "d8e66ecf-5f6d-4629-ac5b-ced50cb340ca",
   "metadata": {},
   "outputs": [
    {
     "name": "stdout",
     "output_type": "stream",
     "text": [
      "shape: (28_013, 1)\n",
      "┌────────────┐\n",
      "│ customerid │\n",
      "│ ---        │\n",
      "│ i64        │\n",
      "╞════════════╡\n",
      "│ 4716       │\n",
      "│ 3808       │\n",
      "│ 2645       │\n",
      "│ 2520       │\n",
      "│ 8385       │\n",
      "│ …          │\n",
      "│ 6222       │\n",
      "│ 5950       │\n",
      "│ 8352       │\n",
      "│ 3894       │\n",
      "│ 1368       │\n",
      "└────────────┘\n"
     ]
    }
   ],
   "source": [
    "customers_who_bought_collectibles = orders_items_collectibles.join(orders, on=\"orderid\", how=\"inner\")\n",
    "print(customers_who_bought_collectibles.select(\"customerid\"))"
   ]
  },
  {
   "cell_type": "markdown",
   "id": "dea39578-bd6f-4876-9f16-850ae80b93d3",
   "metadata": {},
   "source": [
    "Group by customerid and get a list of the collectibles they bought."
   ]
  },
  {
   "cell_type": "code",
   "execution_count": 44,
   "id": "43b163b0-633a-44fe-8976-19f17f22d6e0",
   "metadata": {},
   "outputs": [
    {
     "name": "stdout",
     "output_type": "stream",
     "text": [
      "shape: (5, 3)\n",
      "┌────────────┬─────────────────────────────────┬──────────────────┐\n",
      "│ customerid ┆ sku                             ┆ num_collectibles │\n",
      "│ ---        ┆ ---                             ┆ ---              │\n",
      "│ i64        ┆ list[str]                       ┆ u32              │\n",
      "╞════════════╪═════════════════════════════════╪══════════════════╡\n",
      "│ 3808       ┆ [\"COL8357\", \"COL6858\", … \"COL2… ┆ 111              │\n",
      "│ 1787       ┆ [\"COL6461\", \"COL1263\", … \"COL9… ┆ 37               │\n",
      "│ 3580       ┆ [\"COL4363\", \"COL5018\", … \"COL2… ┆ 36               │\n",
      "│ 6855       ┆ [\"COL8354\", \"COL9011\", … \"COL5… ┆ 36               │\n",
      "│ 8352       ┆ [\"COL9948\", \"COL9349\", … \"COL1… ┆ 34               │\n",
      "└────────────┴─────────────────────────────────┴──────────────────┘\n"
     ]
    }
   ],
   "source": [
    "customers_bought_num_collectibles = (\n",
    "    customers_who_bought_collectibles.group_by(\"customerid\")\n",
    "    .agg(pl.col(\"sku\"))\n",
    "    .with_columns(pl.col(\"sku\").list.len().alias(\"num_collectibles\"))\n",
    "    .sort(\"num_collectibles\", descending=True)\n",
    ")\n",
    "print(customers_bought_num_collectibles.head())"
   ]
  },
  {
   "cell_type": "markdown",
   "id": "88a5161f-0c58-4001-a7b2-1fac13dc4e05",
   "metadata": {},
   "source": [
    "Customer with id 3808 has bought the most collectibles by far."
   ]
  },
  {
   "cell_type": "code",
   "execution_count": 43,
   "id": "dfe78269-6eec-457f-9dd0-639694afacc8",
   "metadata": {},
   "outputs": [
    {
     "name": "stdout",
     "output_type": "stream",
     "text": [
      "shape: (1, 3)\n",
      "┌────────────┬─────────────┬──────────────┐\n",
      "│ customerid ┆ name        ┆ phone        │\n",
      "│ ---        ┆ ---         ┆ ---          │\n",
      "│ i64        ┆ str         ┆ str          │\n",
      "╞════════════╪═════════════╪══════════════╡\n",
      "│ 3808       ┆ James Smith ┆ 212-547-3518 │\n",
      "└────────────┴─────────────┴──────────────┘\n"
     ]
    }
   ],
   "source": [
    "print(\n",
    "    customers.filter(pl.col(\"customerid\") == 3808).select(\n",
    "        \"customerid\", \"name\", \"phone\"\n",
    "    )\n",
    ")"
   ]
  },
  {
   "cell_type": "code",
   "execution_count": null,
   "id": "9e46f82f-9ae4-4a89-94c4-a870238de10a",
   "metadata": {},
   "outputs": [],
   "source": []
  }
 ],
 "metadata": {
  "kernelspec": {
   "display_name": "Python 3 (ipykernel)",
   "language": "python",
   "name": "python3"
  },
  "language_info": {
   "codemirror_mode": {
    "name": "ipython",
    "version": 3
   },
   "file_extension": ".py",
   "mimetype": "text/x-python",
   "name": "python",
   "nbconvert_exporter": "python",
   "pygments_lexer": "ipython3",
   "version": "3.12.6"
  }
 },
 "nbformat": 4,
 "nbformat_minor": 5
}
