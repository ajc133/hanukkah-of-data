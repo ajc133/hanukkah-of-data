{
 "cells": [
  {
   "cell_type": "markdown",
   "id": "41b26dae-2cb8-447f-be17-83c83d24f6d8",
   "metadata": {},
   "source": [
    "The contractor passed the rug along to a neighbor. \n",
    "Here's the important info for finding them:\n",
    "\n",
    "> I gave it to this guy who lived in my neighborhood... he was a Cancer born in the year of the Rabbit...\n"
   ]
  },
  {
   "cell_type": "markdown",
   "id": "68450e13-1702-4ce7-8008-e2fafe69583c",
   "metadata": {},
   "source": [
    "So I'll need to find the customer who:\n",
    "- lives in Joshua Peterson's neighborhood\n",
    "- is a Cancer: born between the dates of June 21st and July 22nd ([source](https://www.horoscope.com/zodiac-signs/cancer))\n",
    "- was born in the year of the Rabbit: any of the following years: 2023, 2011, 1999, 1987, 1975, 1963, and 1951 ([source](https://chinesenewyear.net/zodiac/rabbit/)) "
   ]
  },
  {
   "cell_type": "code",
   "execution_count": null,
   "id": "440b7113-ab51-4e16-b1be-e640758451a0",
   "metadata": {},
   "outputs": [],
   "source": [
    "uri = \"sqlite://data/noahs.sqlite\"\n",
    "query = \"SELECT * FROM orders\"\n",
    "#pl.read_database_uri(query=query,uri=uri,engine=\"adbc\")"
   ]
  },
  {
   "cell_type": "code",
   "execution_count": 1,
   "id": "add3eb24-744e-422f-9599-f9bcaa3b246d",
   "metadata": {},
   "outputs": [],
   "source": [
    "import polars as pl\n",
    "import datetime as dt\n",
    "\n",
    "customers = pl.read_csv(\"data/noahs-customers.csv\",try_parse_dates=True)"
   ]
  },
  {
   "cell_type": "code",
   "execution_count": 40,
   "id": "3d2ec39b-af4c-43f9-bc7d-a5b309b0d434",
   "metadata": {},
   "outputs": [
    {
     "name": "stdout",
     "output_type": "stream",
     "text": [
      "shape: (2, 2)\n",
      "┌───────────────┬──────────────┐\n",
      "│ name          ┆ phone        │\n",
      "│ ---           ┆ ---          │\n",
      "│ str           ┆ str          │\n",
      "╞═══════════════╪══════════════╡\n",
      "│ Robert Morton ┆ 917-288-9635 │\n",
      "│ Max Moore     ┆ 315-291-6374 │\n",
      "└───────────────┴──────────────┘\n"
     ]
    }
   ],
   "source": [
    "# Phone number is from part 2\n",
    "joshua_peterson_citystatezip = (\n",
    "    customers.filter(pl.col(\"phone\") == \"332-274-4185\").select(\"citystatezip\").item()\n",
    ")\n",
    "neighbors = customers.filter(pl.col(\"citystatezip\") == joshua_peterson_citystatezip)\n",
    "\n",
    "june_21_through_31 = (\n",
    "    pl.col(\"birthdate\").dt.month() == 6,\n",
    "    pl.col(\"birthdate\").dt.day().is_in(list(range(21, 32))),\n",
    ")\n",
    "july_1_through_22 = (\n",
    "    pl.col(\"birthdate\").dt.month() == 7,\n",
    "    pl.col(\"birthdate\").dt.day().is_in(list(range(1, 23))),\n",
    ")\n",
    "\n",
    "# I'd love to learn out how to OR these two filters together\n",
    "neighbors_june_cancer = neighbors.filter(june_21_through_31)\n",
    "neighbors_july_cancer = neighbors.filter(july_1_through_23)\n",
    "\n",
    "neighbors_cancer = pl.concat(\n",
    "    [neighbors_june_cancer, neighbors_july_cancer], how=\"vertical\"\n",
    ")\n",
    "print(neighbors_cancer.select(\"name\", \"phone\"))\n"
   ]
  },
  {
   "cell_type": "markdown",
   "id": "f0cab868-277b-4570-92c0-baec0b1c800f",
   "metadata": {},
   "source": [
    "Wow, that narrows it down to two neighbors who are Cancers!\n",
    "At this point I could manually inspect their birthdate, but I can just as easily query it."
   ]
  },
  {
   "cell_type": "code",
   "execution_count": 43,
   "id": "267f29ce-3cfc-4d6c-b791-a61a198373e5",
   "metadata": {},
   "outputs": [
    {
     "name": "stdout",
     "output_type": "stream",
     "text": [
      "shape: (1, 2)\n",
      "┌───────────────┬──────────────┐\n",
      "│ name          ┆ phone        │\n",
      "│ ---           ┆ ---          │\n",
      "│ str           ┆ str          │\n",
      "╞═══════════════╪══════════════╡\n",
      "│ Robert Morton ┆ 917-288-9635 │\n",
      "└───────────────┴──────────────┘\n"
     ]
    }
   ],
   "source": [
    "print(\n",
    "    neighbors_cancer.filter(\n",
    "        pl.col(\"birthdate\").dt.year().is_in([2023, 2011, 1999, 1987, 1975, 1963, 1951])\n",
    "    ).select(\"name\", \"phone\")\n",
    ")\n"
   ]
  }
 ],
 "metadata": {
  "kernelspec": {
   "display_name": "Python 3 (ipykernel)",
   "language": "python",
   "name": "python3"
  },
  "language_info": {
   "codemirror_mode": {
    "name": "ipython",
    "version": 3
   },
   "file_extension": ".py",
   "mimetype": "text/x-python",
   "name": "python",
   "nbconvert_exporter": "python",
   "pygments_lexer": "ipython3",
   "version": "3.12.6"
  }
 },
 "nbformat": 4,
 "nbformat_minor": 5
}
