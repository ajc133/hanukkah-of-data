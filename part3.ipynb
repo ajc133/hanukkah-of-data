{
 "cells": [
  {
   "cell_type": "markdown",
   "id": "41b26dae-2cb8-447f-be17-83c83d24f6d8",
   "metadata": {},
   "source": [
    "The contractor passed the rug along to a neighbor. \n",
    "Here's the important info for finding them:\n",
    "\n",
    "> I gave it to this guy who lived in my neighborhood... he was a Cancer born in the year of the Rabbit...\n"
   ]
  },
  {
   "cell_type": "markdown",
   "id": "68450e13-1702-4ce7-8008-e2fafe69583c",
   "metadata": {},
   "source": [
    "So I'll need to find the customer who:\n",
    "- FIXME: Update for speedrun as well\n",
    "- lives in Joshua Peterson's neighborhood\n",
    "- is a Cancer: born between the dates of June 21st and July 22nd ([source](https://www.horoscope.com/zodiac-signs/cancer))\n",
    "- was born in the year of the Rabbit: any of the following years: 2023, 2011, 1999, 1987, 1975, 1963, and 1951 ([source](https://chinesenewyear.net/zodiac/rabbit/)) "
   ]
  },
  {
   "cell_type": "code",
   "execution_count": 1,
   "id": "add3eb24-744e-422f-9599-f9bcaa3b246d",
   "metadata": {},
   "outputs": [],
   "source": [
    "import polars as pl\n",
    "import datetime as dt\n",
    "\n",
    "customers = pl.read_csv(\"harder-data/noahs-customers.csv\",try_parse_dates=True)"
   ]
  },
  {
   "cell_type": "code",
   "execution_count": 15,
   "id": "3d2ec39b-af4c-43f9-bc7d-a5b309b0d434",
   "metadata": {},
   "outputs": [
    {
     "name": "stdout",
     "output_type": "stream",
     "text": [
      "Queens Village, NY 11427\n",
      "shape: (22, 3)\n",
      "┌────────────┬──────────────────────┬────────────┐\n",
      "│ customerid ┆ name                 ┆ birthdate  │\n",
      "│ ---        ┆ ---                  ┆ ---        │\n",
      "│ i64        ┆ str                  ┆ date       │\n",
      "╞════════════╪══════════════════════╪════════════╡\n",
      "│ 1154       ┆ Vincent Walker       ┆ 1981-06-12 │\n",
      "│ 2550       ┆ Judith Costa         ┆ 1982-03-18 │\n",
      "│ 3864       ┆ David Perez          ┆ 1979-09-29 │\n",
      "│ 4721       ┆ Billy Schneider      ┆ 1954-08-03 │\n",
      "│ 5116       ┆ Rebecca Brenda Baker ┆ 1970-12-03 │\n",
      "│ …          ┆ …                    ┆ …          │\n",
      "│ 9244       ┆ Samuel Wilson        ┆ 1966-07-02 │\n",
      "│ 9461       ┆ Rebecca Cox          ┆ 1963-02-01 │\n",
      "│ 9921       ┆ Kathleen Gomez       ┆ 1989-07-13 │\n",
      "│ 10960      ┆ Leonard Jones        ┆ 1992-08-28 │\n",
      "│ 10966      ┆ Brian Henderson      ┆ 1978-08-28 │\n",
      "└────────────┴──────────────────────┴────────────┘\n"
     ]
    }
   ],
   "source": [
    "# Phone number is from part 2\n",
    "# FIXME: Carry it over programatically!\n",
    "part2_customer_citystatezip = (\n",
    "    customers.filter(pl.col(\"phone\") == \"838-351-0370\").select(\"citystatezip\").item()\n",
    ")\n",
    "print(part2_customer_citystatezip)\n",
    "neighbors = customers.filter(pl.col(\"citystatezip\") == part2_customer_citystatezip)\n",
    "print(neighbors.select(\"customerid\", \"name\",\"birthdate\"))"
   ]
  },
  {
   "cell_type": "code",
   "execution_count": 18,
   "id": "659b9b67-6b61-4c8f-8783-9e0e1fb4b26e",
   "metadata": {},
   "outputs": [
    {
     "name": "stdout",
     "output_type": "stream",
     "text": [
      "shape: (1, 4)\n",
      "┌────────────┬─────────────┬──────────────┬────────────┐\n",
      "│ customerid ┆ name        ┆ phone        ┆ birthdate  │\n",
      "│ ---        ┆ ---         ┆ ---          ┆ ---        │\n",
      "│ i64        ┆ str         ┆ str          ┆ date       │\n",
      "╞════════════╪═════════════╪══════════════╪════════════╡\n",
      "│ 3864       ┆ David Perez ┆ 914-594-5535 ┆ 1979-09-29 │\n",
      "└────────────┴─────────────┴──────────────┴────────────┘\n"
     ]
    }
   ],
   "source": [
    "# # Cancer: June 21 - July 22\n",
    "# june_21_through_31 = (\n",
    "#     pl.col(\"birthdate\").dt.month() == 6,\n",
    "#     pl.col(\"birthdate\").dt.day().is_in(list(range(21, 32))),\n",
    "# )\n",
    "# july_1_through_22 = (\n",
    "#     pl.col(\"birthdate\").dt.month() == 7,\n",
    "#     pl.col(\"birthdate\").dt.day().is_in(list(range(1, 23))),\n",
    "# )\n",
    "\n",
    "# Libra:  Sep 23 - Oct 22\n",
    "sept_21_through_30 = (\n",
    "    pl.col(\"birthdate\").dt.month() == 9,\n",
    "    pl.col(\"birthdate\").dt.day().is_in(list(range(21, 31))),\n",
    ")\n",
    "oct_1_through_22 =    (\n",
    "    pl.col(\"birthdate\").dt.month() == 10,\n",
    "    pl.col(\"birthdate\").dt.day().is_in(list(range(1, 23))),\n",
    ")\n",
    "\n",
    "\n",
    "# I'd love to learn out how to OR these two filters together instead of concat\n",
    "neighbors_same_star_sign = pl.concat(\n",
    "    [neighbors.filter(sept_21_through_30), neighbors.filter(oct_1_through_22)], how=\"vertical\"\n",
    ")\n",
    "print(neighbors_same_star_sign.select(\"customerid\", \"name\", \"phone\", \"birthdate\"))"
   ]
  },
  {
   "cell_type": "markdown",
   "id": "f0cab868-277b-4570-92c0-baec0b1c800f",
   "metadata": {},
   "source": [
    "Wow, that narrows it down to one neighbor with the same horoscope sign!\n",
    "I don't even need to calculate year of the goat in the speedrun.\n",
    "\n",
    "At this point I could manually inspect their birthdate, but I can just as easily query it."
   ]
  },
  {
   "cell_type": "code",
   "execution_count": 21,
   "id": "267f29ce-3cfc-4d6c-b791-a61a198373e5",
   "metadata": {},
   "outputs": [
    {
     "name": "stdout",
     "output_type": "stream",
     "text": [
      "shape: (1, 3)\n",
      "┌────────────┬─────────────┬──────────────┐\n",
      "│ customerid ┆ name        ┆ phone        │\n",
      "│ ---        ┆ ---         ┆ ---          │\n",
      "│ i64        ┆ str         ┆ str          │\n",
      "╞════════════╪═════════════╪══════════════╡\n",
      "│ 3864       ┆ David Perez ┆ 914-594-5535 │\n",
      "└────────────┴─────────────┴──────────────┘\n"
     ]
    }
   ],
   "source": [
    "# year_of_the_rabbit = [2023, 2011, 1999, 1987, 1975, 1963, 1951]\n",
    "year_of_the_goat = [1907, 1919, 1931, 1943, 1955, 1967, 1979, 1991, 2003, 2015] # https://en.wikipedia.org/wiki/Goat_(zodiac)\n",
    "\n",
    "print(\n",
    "    neighbors_same_star_sign.filter(\n",
    "        pl.col(\"birthdate\").dt.year().is_in(year_of_the_goat)\n",
    "    ).select(\"customerid\", \"name\", \"phone\")\n",
    ")"
   ]
  }
 ],
 "metadata": {
  "kernelspec": {
   "display_name": "Python 3 (ipykernel)",
   "language": "python",
   "name": "python3"
  },
  "language_info": {
   "codemirror_mode": {
    "name": "ipython",
    "version": 3
   },
   "file_extension": ".py",
   "mimetype": "text/x-python",
   "name": "python",
   "nbconvert_exporter": "python",
   "pygments_lexer": "ipython3",
   "version": "3.12.6"
  }
 },
 "nbformat": 4,
 "nbformat_minor": 5
}
