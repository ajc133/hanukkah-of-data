{
 "cells": [
  {
   "cell_type": "markdown",
   "id": "5239aafd-5b91-4c8b-9707-04cc483ba3c6",
   "metadata": {},
   "source": [
    "The neighbor passed the rug along to a woman he met on Tinder.\n",
    "\n",
    "> Thankfully, this woman I met on Tinder came over at **5am** with her bike chain repair kit and some pastries from Noah’s. Apparently she liked to get up before dawn and **claim the first pastries that came out of the oven**.\n",
    "\n",
    "So I need to find a woman who was the first to order pastries one day before 5am.\n",
    "If there's multiple people who fit the criteria, I'll have to see who does it habitually/the most."
   ]
  },
  {
   "cell_type": "code",
   "execution_count": 5,
   "id": "fa780bad-75a7-4b3e-b059-5e7839a5cb4b",
   "metadata": {},
   "outputs": [],
   "source": [
    "import polars as pl\n",
    "\n",
    "customers = pl.read_csv(\"harder-data/noahs-customers.csv\",try_parse_dates=True)\n",
    "orders_items = pl.read_csv(\"harder-data/noahs-orders_items.csv\",try_parse_dates=True)\n",
    "orders = pl.read_csv(\"harder-data/noahs-orders.csv\",try_parse_dates=True)\n",
    "products = pl.read_csv(\"harder-data/noahs-products.csv\",try_parse_dates=True)"
   ]
  },
  {
   "cell_type": "markdown",
   "id": "a64eff36-54b3-44d6-8c89-fe4f211006a1",
   "metadata": {},
   "source": [
    "It seems that the sku in the \"products\" table corresponds the department of the store it's from.\n",
    "In this case, bakery items start with 'BKY'."
   ]
  },
  {
   "cell_type": "code",
   "execution_count": 6,
   "id": "5689d8f2-da94-4d55-88ae-0ce98231ea62",
   "metadata": {},
   "outputs": [],
   "source": [
    "bakery_items = products.filter(pl.col(\"sku\").str.starts_with(\"BKY\"))"
   ]
  },
  {
   "cell_type": "markdown",
   "id": "f0319bbb-ab0d-40fd-9fa9-7e36b2a40f88",
   "metadata": {},
   "source": [
    "Now I'll find the customer who places bakery orders before 5am the most often."
   ]
  },
  {
   "cell_type": "code",
   "execution_count": 7,
   "id": "d7dbec43-471d-4d01-95e1-18c3f3cab5fe",
   "metadata": {},
   "outputs": [
    {
     "name": "stdout",
     "output_type": "stream",
     "text": [
      "shape: (1, 2)\n",
      "┌─────────────────┬──────────────┐\n",
      "│ name            ┆ phone        │\n",
      "│ ---             ┆ ---          │\n",
      "│ str             ┆ str          │\n",
      "╞═════════════════╪══════════════╡\n",
      "│ Brittany Harmon ┆ 716-789-4433 │\n",
      "└─────────────────┴──────────────┘\n"
     ]
    }
   ],
   "source": [
    "bakery_items_orders = orders_items.join(bakery_items, on=\"sku\", how=\"inner\")\n",
    "bakery_orders = orders.join(bakery_items_orders, on=\"orderid\", how=\"inner\")\n",
    "\n",
    "early_bird_customer_id = (\n",
    "    bakery_orders.filter(pl.col(\"ordered\").dt.hour() < 5)\n",
    "    .group_by(\"customerid\")\n",
    "    .agg(pl.len())\n",
    "    .sort(\"len\", descending=True)\n",
    "    .limit(1)\n",
    "    .select(\"customerid\")\n",
    "    .item()\n",
    ")\n",
    "\n",
    "print(\n",
    "    customers.filter(pl.col(\"customerid\") == early_bird_customer_id).select(\n",
    "        \"name\", \"phone\"\n",
    "    )\n",
    ")\n"
   ]
  },
  {
   "cell_type": "markdown",
   "id": "1b32db23-1ce1-4db6-9a5b-c35d3ba827f9",
   "metadata": {},
   "source": [
    "I'll admit, I pretty much was able to copy that bit straight out of the [Polars aggregation docs](https://docs.pola.rs/user-guide/expressions/aggregation/) :D"
   ]
  }
 ],
 "metadata": {
  "kernelspec": {
   "display_name": "Python 3 (ipykernel)",
   "language": "python",
   "name": "python3"
  },
  "language_info": {
   "codemirror_mode": {
    "name": "ipython",
    "version": 3
   },
   "file_extension": ".py",
   "mimetype": "text/x-python",
   "name": "python",
   "nbconvert_exporter": "python",
   "pygments_lexer": "ipython3",
   "version": "3.12.6"
  }
 },
 "nbformat": 4,
 "nbformat_minor": 5
}
