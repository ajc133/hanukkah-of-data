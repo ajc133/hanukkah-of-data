{
 "cells": [
  {
   "cell_type": "markdown",
   "id": "5239aafd-5b91-4c8b-9707-04cc483ba3c6",
   "metadata": {},
   "source": [
    "# Part 4: The Early Bird\n",
    "\n",
    "The neighbor passed the rug along to a woman he met on Tinder.\n",
    "\n",
    "> Thankfully, this woman I met on Tinder came over at **5am** with her bike chain repair kit and some pastries from Noah’s. Apparently she liked to get up before dawn and **claim the first pastries that came out of the oven**.\n",
    "\n",
    "So I need to find the customer who most often is the first to order pastries before 5am."
   ]
  },
  {
   "cell_type": "code",
   "execution_count": 1,
   "id": "fa780bad-75a7-4b3e-b059-5e7839a5cb4b",
   "metadata": {},
   "outputs": [],
   "source": [
    "import polars as pl\n",
    "\n",
    "customers = pl.read_csv(\"data/noahs-customers.csv\",try_parse_dates=True)\n",
    "orders_items = pl.read_csv(\"data/noahs-orders_items.csv\",try_parse_dates=True)\n",
    "orders = pl.read_csv(\"data/noahs-orders.csv\",try_parse_dates=True)\n",
    "products = pl.read_csv(\"data/noahs-products.csv\",try_parse_dates=True)"
   ]
  },
  {
   "cell_type": "markdown",
   "id": "a64eff36-54b3-44d6-8c89-fe4f211006a1",
   "metadata": {},
   "source": [
    "It seems that the sku in the \"products\" table corresponds the department of the store it's from.\n",
    "In this case, bakery items start with 'BKY'."
   ]
  },
  {
   "cell_type": "code",
   "execution_count": 8,
   "id": "5689d8f2-da94-4d55-88ae-0ce98231ea62",
   "metadata": {},
   "outputs": [
    {
     "name": "stdout",
     "output_type": "stream",
     "text": [
      "shape: (20, 4)\n",
      "┌─────────┬─────────────────────────┬────────────────┬────────────────┐\n",
      "│ sku     ┆ desc                    ┆ wholesale_cost ┆ dims_cm        │\n",
      "│ ---     ┆ ---                     ┆ ---            ┆ ---            │\n",
      "│ str     ┆ str                     ┆ f64            ┆ str            │\n",
      "╞═════════╪═════════════════════════╪════════════════╪════════════════╡\n",
      "│ BKY0303 ┆ Raspberry Sufganiah     ┆ 0.89           ┆ 14.4|13.1|1.9  │\n",
      "│ BKY0542 ┆ Caraway Bagel           ┆ 1.1            ┆ 14.7|9.0|3.2   │\n",
      "│ BKY1021 ┆ Raspberry Rugelach      ┆ 1.12           ┆ 14.5|9.6|2.6   │\n",
      "│ BKY1115 ┆ Caraway Bialy           ┆ 1.13           ┆ 14.4|2.2|1.9   │\n",
      "│ BKY3490 ┆ Raspberry Linzer Cookie ┆ 1.0            ┆ 18.6|13.1|10.4 │\n",
      "│ …       ┆ …                       ┆ …              ┆ …              │\n",
      "│ BKY8370 ┆ Sesame Puff             ┆ 0.92           ┆ 17.7|13.3|3.2  │\n",
      "│ BKY8445 ┆ Poppyseed Hamentash     ┆ 0.96           ┆ 12.3|9.1|6.1   │\n",
      "│ BKY9158 ┆ Poppyseed Rugelach      ┆ 1.03           ┆ 18.2|17.5|10.9 │\n",
      "│ BKY9228 ┆ Poppyseed Sufganiah     ┆ 1.22           ┆ 16.0|11.0|8.0  │\n",
      "│ BKY9336 ┆ Poppyseed Babka         ┆ 0.93           ┆ 18.8|16.4|9.3  │\n",
      "└─────────┴─────────────────────────┴────────────────┴────────────────┘\n"
     ]
    }
   ],
   "source": [
    "bakery_items = products.filter(pl.col(\"sku\").str.starts_with(\"BKY\"))\n",
    "print(bakery_items)"
   ]
  },
  {
   "cell_type": "markdown",
   "id": "f0319bbb-ab0d-40fd-9fa9-7e36b2a40f88",
   "metadata": {},
   "source": [
    "Now I'll find the customer who places bakery orders before 5am the most often."
   ]
  },
  {
   "cell_type": "code",
   "execution_count": 17,
   "id": "d7dbec43-471d-4d01-95e1-18c3f3cab5fe",
   "metadata": {},
   "outputs": [
    {
     "name": "stdout",
     "output_type": "stream",
     "text": [
      "shape: (1, 3)\n",
      "┌────────────┬─────────────────┬──────────────┐\n",
      "│ customerid ┆ name            ┆ phone        │\n",
      "│ ---        ┆ ---             ┆ ---          │\n",
      "│ i64        ┆ str             ┆ str          │\n",
      "╞════════════╪═════════════════╪══════════════╡\n",
      "│ 6455       ┆ Brittany Harmon ┆ 716-789-4433 │\n",
      "└────────────┴─────────────────┴──────────────┘\n"
     ]
    }
   ],
   "source": [
    "bakery_items_orders = orders_items.join(bakery_items, on=\"sku\", how=\"inner\")\n",
    "bakery_orders = orders.join(bakery_items_orders, on=\"orderid\", how=\"inner\")\n",
    "\n",
    "early_bird_customer_id = (\n",
    "    bakery_orders.filter(pl.col(\"ordered\").dt.hour() < 5)\n",
    "    .group_by(\"customerid\")\n",
    "    .agg(pl.len())\n",
    "    .top_k(1, by=\"len\")\n",
    "    .item(0,0)\n",
    ")\n",
    "\n",
    "print(\n",
    "    customers.filter(pl.col(\"customerid\") == early_bird_customer_id).select(\n",
    "        \"customerid\",\n",
    "        \"name\", \"phone\"\n",
    "    )\n",
    ")"
   ]
  }
 ],
 "metadata": {
  "kernelspec": {
   "display_name": "Python 3 (ipykernel)",
   "language": "python",
   "name": "python3"
  },
  "language_info": {
   "codemirror_mode": {
    "name": "ipython",
    "version": 3
   },
   "file_extension": ".py",
   "mimetype": "text/x-python",
   "name": "python",
   "nbconvert_exporter": "python",
   "pygments_lexer": "ipython3",
   "version": "3.12.6"
  }
 },
 "nbformat": 4,
 "nbformat_minor": 5
}
