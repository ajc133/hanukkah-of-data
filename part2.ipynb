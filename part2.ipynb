{
 "cells": [
  {
   "cell_type": "markdown",
   "id": "b3ee0c7a-0482-4fe6-94fd-df8fd4d13551",
   "metadata": {},
   "source": [
    "# Part 2: The Contractor\n",
    "\n",
    "Finding the phone number in Part 1 unlocks Part 2, where you need to find a contractor's phone number.\n",
    "\n",
    "> ... **they usually talked about the project over coffee and bagels at Noah’s before handing off the item to be cleaned. The contractors would pick up the tab and expense it, along with their cleaning supplies.**\n",
    "> \n",
    "> “So this rug was apparently one of those special projects. The claim ticket said ‘2017 JP’. **‘2017’ is the year the item was brought in, and ‘JP’ is the initials of the contractor.**\n"
   ]
  },
  {
   "cell_type": "code",
   "execution_count": 8,
   "id": "af36918b-5f8d-485f-8a4f-061342e45ace",
   "metadata": {},
   "outputs": [],
   "source": [
    "import polars as pl\n",
    "\n",
    "customers = pl.read_csv(\"harder-data/noahs-customers.csv\",try_parse_dates=True)\n",
    "orders_items = pl.read_csv(\"harder-data/noahs-orders_items.csv\",try_parse_dates=True)\n",
    "orders = pl.read_csv(\"harder-data/noahs-orders.csv\",try_parse_dates=True)\n",
    "products = pl.read_csv(\"harder-data/noahs-products.csv\",try_parse_dates=True)"
   ]
  },
  {
   "cell_type": "markdown",
   "id": "bcd3e04a-d147-4a3f-a974-4a0d117db12f",
   "metadata": {},
   "source": [
    "First I'll find all the customers whose initials are JP."
   ]
  },
  {
   "cell_type": "code",
   "execution_count": 28,
   "id": "261d08f6-7790-4963-8b73-6fca6049c264",
   "metadata": {},
   "outputs": [
    {
     "name": "stdout",
     "output_type": "stream",
     "text": [
      "71/10237 customers match the initals regex of '^D.+ S.+$'\n"
     ]
    }
   ],
   "source": [
    "initials_regex = r\"^D.+ S.+$\"\n",
    "customers_with_matching_initials = customers.filter(pl.col(\"name\").str.contains(initials_regex))\n",
    "print(f\"{len(customers_with_matching_initials)}/{len(customers)} customers match the initals regex of '{initials_regex}'\")"
   ]
  },
  {
   "cell_type": "markdown",
   "id": "d86ef220-eb23-4579-92ae-946fc189a708",
   "metadata": {},
   "source": [
    "How many orders did they collectively place in 2017?"
   ]
  },
  {
   "cell_type": "code",
   "execution_count": 29,
   "id": "25dfe1b9-c3d3-43a3-9cb7-acf664138e51",
   "metadata": {},
   "outputs": [
    {
     "name": "stdout",
     "output_type": "stream",
     "text": [
      "shape: (543, 17)\n",
      "┌─────────┬─────────┬─────┬────────────┬───┬──────────────┬─────────────────┬──────────┬───────────┐\n",
      "│ orderid ┆ sku     ┆ qty ┆ unit_price ┆ … ┆ phone        ┆ timezone        ┆ lat      ┆ long      │\n",
      "│ ---     ┆ ---     ┆ --- ┆ ---        ┆   ┆ ---          ┆ ---             ┆ ---      ┆ ---       │\n",
      "│ i64     ┆ str     ┆ i64 ┆ f64        ┆   ┆ str          ┆ str             ┆ f64      ┆ f64       │\n",
      "╞═════════╪═════════╪═════╪════════════╪═══╪══════════════╪═════════════════╪══════════╪═══════════╡\n",
      "│ 1256    ┆ HOM3370 ┆ 1   ┆ 9.24       ┆ … ┆ 929-724-7181 ┆ America/New_Yor ┆ 40.76445 ┆ -73.92904 │\n",
      "│         ┆         ┆     ┆            ┆   ┆              ┆ k               ┆          ┆           │\n",
      "│ 1310    ┆ HOM7886 ┆ 1   ┆ 134.75     ┆ … ┆ 838-591-7147 ┆ America/New_Yor ┆ 40.73383 ┆ -73.98621 │\n",
      "│         ┆         ┆     ┆            ┆   ┆              ┆ k               ┆          ┆           │\n",
      "│ 1321    ┆ TOY5812 ┆ 1   ┆ 15.03      ┆ … ┆ 716-950-2530 ┆ America/New_Yor ┆ 40.74441 ┆ -73.95673 │\n",
      "│         ┆         ┆     ┆            ┆   ┆              ┆ k               ┆          ┆           │\n",
      "│ 1321    ┆ TOY9970 ┆ 1   ┆ 14.27      ┆ … ┆ 716-950-2530 ┆ America/New_Yor ┆ 40.74441 ┆ -73.95673 │\n",
      "│         ┆         ┆     ┆            ┆   ┆              ┆ k               ┆          ┆           │\n",
      "│ 1321    ┆ HOM0143 ┆ 1   ┆ 92.86      ┆ … ┆ 716-950-2530 ┆ America/New_Yor ┆ 40.74441 ┆ -73.95673 │\n",
      "│         ┆         ┆     ┆            ┆   ┆              ┆ k               ┆          ┆           │\n",
      "│ …       ┆ …       ┆ …   ┆ …          ┆ … ┆ …            ┆ …               ┆ …        ┆ …         │\n",
      "│ 34214   ┆ TOY5812 ┆ 1   ┆ 15.71      ┆ … ┆ 585-954-4457 ┆ America/New_Yor ┆ 40.79959 ┆ -73.95212 │\n",
      "│         ┆         ┆     ┆            ┆   ┆              ┆ k               ┆          ┆           │\n",
      "│ 34214   ┆ HOM4743 ┆ 1   ┆ 40.57      ┆ … ┆ 585-954-4457 ┆ America/New_Yor ┆ 40.79959 ┆ -73.95212 │\n",
      "│         ┆         ┆     ┆            ┆   ┆              ┆ k               ┆          ┆           │\n",
      "│ 34214   ┆ COL5420 ┆ 1   ┆ 11.63      ┆ … ┆ 585-954-4457 ┆ America/New_Yor ┆ 40.79959 ┆ -73.95212 │\n",
      "│         ┆         ┆     ┆            ┆   ┆              ┆ k               ┆          ┆           │\n",
      "│ 34214   ┆ HOM7742 ┆ 1   ┆ 103.29     ┆ … ┆ 585-954-4457 ┆ America/New_Yor ┆ 40.79959 ┆ -73.95212 │\n",
      "│         ┆         ┆     ┆            ┆   ┆              ┆ k               ┆          ┆           │\n",
      "│ 34236   ┆ HOM9235 ┆ 1   ┆ 79.89      ┆ … ┆ 585-580-6060 ┆ America/New_Yor ┆ 40.74698 ┆ -73.97792 │\n",
      "│         ┆         ┆     ┆            ┆   ┆              ┆ k               ┆          ┆           │\n",
      "└─────────┴─────────┴─────┴────────────┴───┴──────────────┴─────────────────┴──────────┴───────────┘\n"
     ]
    }
   ],
   "source": [
    "# Get all of the orders (including items) from INITIALS in 2017\n",
    "orders_2017 = orders.filter(pl.col(\"ordered\").dt.year() == 2017).join(\n",
    "    customers_with_matching_initials, on=\"customerid\", how=\"inner\"\n",
    ")\n",
    "orders_items_2017 = orders_items.join(orders_2017, on=\"orderid\", how=\"inner\")\n",
    "print(orders_items_2017)"
   ]
  },
  {
   "cell_type": "markdown",
   "id": "d159ceab-3c95-4338-8b85-321860c075d3",
   "metadata": {},
   "source": [
    "Ok, so I need to find the customer who buys coffee, bagels, and cleaning supplies.\n",
    "Visually inspecting the products table shows that I only need to filter on products with descriptions containing \"bagel\", \"coffee\", and \"cleaner\"."
   ]
  },
  {
   "cell_type": "code",
   "execution_count": 30,
   "id": "a4158b62-588c-4f49-83bc-a2b93691bb7e",
   "metadata": {},
   "outputs": [
    {
     "name": "stdout",
     "output_type": "stream",
     "text": [
      "shape: (4, 4)\n",
      "┌─────────┬───────────────┬────────────────┬───────────────┐\n",
      "│ sku     ┆ desc          ┆ wholesale_cost ┆ dims_cm       │\n",
      "│ ---     ┆ ---           ┆ ---            ┆ ---           │\n",
      "│ str     ┆ str           ┆ f64            ┆ str           │\n",
      "╞═════════╪═══════════════╪════════════════╪═══════════════╡\n",
      "│ BKY0542 ┆ Caraway Bagel ┆ 1.1            ┆ 14.7|9.0|3.2  │\n",
      "│ BKY6777 ┆ Sesame Bagel  ┆ 0.99           ┆ 19.7|19.3|2.3 │\n",
      "│ HOM6863 ┆ Rug Cleaner   ┆ 1.64           ┆ 17.2|13.7|8.1 │\n",
      "│ DLI7565 ┆ Coffee, Drip  ┆ 1.42           ┆ 16.6|7.4|7.4  │\n",
      "└─────────┴───────────────┴────────────────┴───────────────┘\n"
     ]
    }
   ],
   "source": [
    "coffee_bagels_cleaners = products.filter(pl.col(\"desc\").str.contains(\"Bagel|Coffee|Cleaner\"))\n",
    "print(coffee_bagels_cleaners)"
   ]
  },
  {
   "cell_type": "markdown",
   "id": "ba096b4d-80a5-4019-8e40-535570239b98",
   "metadata": {},
   "source": [
    "~~I want all the order ids where coffee **AND** bagels **AND** cleaner were purchased, ~~but I'm going to take a shortcut and find the orders where coffee **OR** bagels **OR** cleaner were purchased.~~  I can no longer take shortcuts in the speedrun.\n",
    "Then I'll take the orders that had three items or more."
   ]
  },
  {
   "cell_type": "code",
   "execution_count": 54,
   "id": "1cb216d8-4baf-4de1-8db9-e2a8e6fb3efb",
   "metadata": {},
   "outputs": [
    {
     "name": "stdout",
     "output_type": "stream",
     "text": [
      "shape: (1, 2)\n",
      "┌─────────┬─────────────────────────────────┐\n",
      "│ orderid ┆ sku                             │\n",
      "│ ---     ┆ ---                             │\n",
      "│ i64     ┆ list[str]                       │\n",
      "╞═════════╪═════════════════════════════════╡\n",
      "│ 5618    ┆ [\"DLI7565\", \"HOM6863\", … \"BKY0… │\n",
      "└─────────┴─────────────────────────────────┘\n"
     ]
    }
   ],
   "source": [
    "potential_contractor_orders = (\n",
    "    orders_items_2017.join(coffee_bagels_cleaners, on=\"sku\", how=\"inner\")\n",
    "    .group_by(\"orderid\")\n",
    "    .agg(pl.col(\"sku\"))\n",
    ")\n",
    "print(potential_contractor_orders.filter(pl.col(\"sku\").list.len() >= 3))"
   ]
  },
  {
   "cell_type": "markdown",
   "id": "98ab80c4-b387-4541-9dc9-dca4976ef3ec",
   "metadata": {},
   "source": [
    "FIXME: ~~This happens to work in this case, but I suspect it'll fail in larger datasets. (spoiler: it did)~~\n",
    "~~I find it hard to believe there's only one person within initals JP who bought three coffees in 2017.~~\n",
    "\n",
    "Now I find the customer who placed that order. Going to copy paste the orderid from above output instead of carry over programatically.\n",
    "FIXME: DO THIS PROGRAMATICALLY"
   ]
  },
  {
   "cell_type": "code",
   "execution_count": 57,
   "id": "0936af4e-1402-4290-a737-dd2b4f5a546d",
   "metadata": {},
   "outputs": [
    {
     "name": "stdout",
     "output_type": "stream",
     "text": [
      "shape: (1, 3)\n",
      "┌────────────┬───────────────────┬──────────────┐\n",
      "│ customerid ┆ name              ┆ phone        │\n",
      "│ ---        ┆ ---               ┆ ---          │\n",
      "│ i64        ┆ str               ┆ str          │\n",
      "╞════════════╪═══════════════════╪══════════════╡\n",
      "│ 5745       ┆ David Swanson Jr. ┆ 838-351-0370 │\n",
      "└────────────┴───────────────────┴──────────────┘\n"
     ]
    }
   ],
   "source": [
    "\n",
    "print(\n",
    "    orders.filter(pl.col(\"orderid\") == 5618).join(customers, on=\"customerid\", how=\"inner\").select(\"customerid\", \"name\", \"phone\")\n",
    ")"
   ]
  },
  {
   "cell_type": "code",
   "execution_count": null,
   "id": "49480c42-f6b0-4a92-9b89-70f0c299a2f0",
   "metadata": {},
   "outputs": [],
   "source": []
  }
 ],
 "metadata": {
  "kernelspec": {
   "display_name": "Python 3 (ipykernel)",
   "language": "python",
   "name": "python3"
  },
  "language_info": {
   "codemirror_mode": {
    "name": "ipython",
    "version": 3
   },
   "file_extension": ".py",
   "mimetype": "text/x-python",
   "name": "python",
   "nbconvert_exporter": "python",
   "pygments_lexer": "ipython3",
   "version": "3.12.6"
  }
 },
 "nbformat": 4,
 "nbformat_minor": 5
}
