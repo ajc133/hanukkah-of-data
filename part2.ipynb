{
 "cells": [
  {
   "cell_type": "markdown",
   "id": "b3ee0c7a-0482-4fe6-94fd-df8fd4d13551",
   "metadata": {},
   "source": [
    "# Part 2: The Contractor\n",
    "\n",
    "Finding the phone number in Part 1 unlocks Part 2, where you need to find a contractor's phone number.\n",
    "\n",
    "> ... **they usually talked about the project over coffee and bagels at Noah’s before handing off the item to be cleaned. The contractors would pick up the tab and expense it, along with their cleaning supplies.**\n",
    "> \n",
    "> “So this rug was apparently one of those special projects. The claim ticket said ‘2017 JP’. **‘2017’ is the year the item was brought in, and ‘JP’ is the initials of the contractor.**\n"
   ]
  },
  {
   "cell_type": "code",
   "execution_count": 58,
   "id": "af36918b-5f8d-485f-8a4f-061342e45ace",
   "metadata": {},
   "outputs": [],
   "source": [
    "import polars as pl\n",
    "\n",
    "customers = pl.read_csv(\"data/noahs-customers.csv\",try_parse_dates=True)\n",
    "orders_items = pl.read_csv(\"data/noahs-orders_items.csv\",try_parse_dates=True)\n",
    "orders = pl.read_csv(\"data/noahs-orders.csv\",try_parse_dates=True)\n",
    "products = pl.read_csv(\"data/noahs-products.csv\",try_parse_dates=True)"
   ]
  },
  {
   "cell_type": "markdown",
   "id": "bcd3e04a-d147-4a3f-a974-4a0d117db12f",
   "metadata": {},
   "source": [
    "First I'll find all the customers whose initials are JP."
   ]
  },
  {
   "cell_type": "code",
   "execution_count": 59,
   "id": "261d08f6-7790-4963-8b73-6fca6049c264",
   "metadata": {},
   "outputs": [
    {
     "name": "stdout",
     "output_type": "stream",
     "text": [
      "72 / 8260\n"
     ]
    }
   ],
   "source": [
    "jp_customers = customers.filter(pl.col(\"name\").str.contains(\"^J.+ P.+$\"))\n",
    "print(len(jp_customers), \"/\", len(customers))"
   ]
  },
  {
   "cell_type": "markdown",
   "id": "d86ef220-eb23-4579-92ae-946fc189a708",
   "metadata": {},
   "source": [
    "Out of the 8,260 customers, 72 have initials JP.\n",
    "How many orders did they collectively place in 2017?"
   ]
  },
  {
   "cell_type": "code",
   "execution_count": 60,
   "id": "25dfe1b9-c3d3-43a3-9cb7-acf664138e51",
   "metadata": {},
   "outputs": [
    {
     "name": "stdout",
     "output_type": "stream",
     "text": [
      "486\n"
     ]
    }
   ],
   "source": [
    "# Get all of the orders (including items) from JP in 2017\n",
    "orders_2017 = orders.filter(pl.col(\"ordered\").dt.year() == 2017).join(\n",
    "    jp_customers, on=\"customerid\", how=\"inner\"\n",
    ")\n",
    "orders_items_2017 = orders_items.join(orders_2017, on=\"orderid\", how=\"inner\")\n",
    "print(len(orders_items_2017))"
   ]
  },
  {
   "cell_type": "markdown",
   "id": "d159ceab-3c95-4338-8b85-321860c075d3",
   "metadata": {},
   "source": [
    "Ok, so I need to find the customer who buys coffee, bagels, and cleaning supplies.\n",
    "Visually inspecting the products table shows that I only need to filter on products with descriptions containing \"bagel\", \"coffee\", and \"cleaner\"."
   ]
  },
  {
   "cell_type": "code",
   "execution_count": 61,
   "id": "a4158b62-588c-4f49-83bc-a2b93691bb7e",
   "metadata": {},
   "outputs": [
    {
     "name": "stdout",
     "output_type": "stream",
     "text": [
      "shape: (4, 4)\n",
      "┌─────────┬───────────────┬────────────────┬───────────────┐\n",
      "│ sku     ┆ desc          ┆ wholesale_cost ┆ dims_cm       │\n",
      "│ ---     ┆ ---           ┆ ---            ┆ ---           │\n",
      "│ str     ┆ str           ┆ f64            ┆ str           │\n",
      "╞═════════╪═══════════════╪════════════════╪═══════════════╡\n",
      "│ BKY1573 ┆ Sesame Bagel  ┆ 1.02           ┆ 11.9|4.7|0.9  │\n",
      "│ HOM2761 ┆ Rug Cleaner   ┆ 1.43           ┆ 19.6|11.7|0.2 │\n",
      "│ BKY5717 ┆ Caraway Bagel ┆ 1.03           ┆ 11.3|2.3|1.6  │\n",
      "│ DLI8820 ┆ Coffee, Drip  ┆ 1.44           ┆ 9.6|7.8|0.7   │\n",
      "└─────────┴───────────────┴────────────────┴───────────────┘\n"
     ]
    }
   ],
   "source": [
    "coffee_bagels_cleaners = products.filter(pl.col(\"desc\").str.contains(\"Bagel|Coffee|Cleaner\"))\n",
    "print(coffee_bagels_cleaners)"
   ]
  },
  {
   "cell_type": "raw",
   "id": "81ad66de-1f13-4219-bf85-c1e8c03263f6",
   "metadata": {},
   "source": [
    "I want all the order ids where coffee **AND** bagels **AND** cleaner were purchased.\n",
    "I'll take the orders, collect all the SKUs in the order into a list, and only keep the rows with lists that have three unique SKUs."
   ]
  },
  {
   "cell_type": "code",
   "execution_count": 75,
   "id": "1cb216d8-4baf-4de1-8db9-e2a8e6fb3efb",
   "metadata": {},
   "outputs": [
    {
     "name": "stdout",
     "output_type": "stream",
     "text": [
      "shape: (1, 2)\n",
      "┌─────────┬─────────────────────────────────┐\n",
      "│ orderid ┆ sku                             │\n",
      "│ ---     ┆ ---                             │\n",
      "│ i64     ┆ list[str]                       │\n",
      "╞═════════╪═════════════════════════════════╡\n",
      "│ 7459    ┆ [\"DLI8820\", \"HOM2761\", \"BKY157… │\n",
      "└─────────┴─────────────────────────────────┘\n"
     ]
    }
   ],
   "source": [
    "potential_contractor_orders = (\n",
    "    orders_items_2017.join(coffee_bagels_cleaners, on=\"sku\", how=\"inner\")\n",
    "    .group_by(\"orderid\")\n",
    "    .agg(pl.col(\"sku\"))\n",
    ")\n",
    "\n",
    "potential_contractor_orders_three_or_more = potential_contractor_orders.filter(pl.col(\"sku\").list.n_unique() >= 3)\n",
    "print(potential_contractor_orders_three_or_more)"
   ]
  },
  {
   "cell_type": "markdown",
   "id": "98ab80c4-b387-4541-9dc9-dca4976ef3ec",
   "metadata": {},
   "source": [
    "Apparently there's only one person with initals JP who bought those items in one order in 2017."
   ]
  },
  {
   "cell_type": "code",
   "execution_count": 78,
   "id": "0936af4e-1402-4290-a737-dd2b4f5a546d",
   "metadata": {},
   "outputs": [
    {
     "name": "stdout",
     "output_type": "stream",
     "text": [
      "shape: (1, 3)\n",
      "┌────────────┬─────────────────┬──────────────┐\n",
      "│ customerid ┆ name            ┆ phone        │\n",
      "│ ---        ┆ ---             ┆ ---          │\n",
      "│ i64        ┆ str             ┆ str          │\n",
      "╞════════════╪═════════════════╪══════════════╡\n",
      "│ 1475       ┆ Joshua Peterson ┆ 332-274-4185 │\n",
      "└────────────┴─────────────────┴──────────────┘\n"
     ]
    }
   ],
   "source": [
    "print(potential_contractor_orders_three_or_more.join(orders_2017, on=\"orderid\", how=\"inner\").join(\n",
    "    customers, on=\"customerid\", how=\"inner\"\n",
    ").select(\"customerid\", \"name\", \"phone\"))\n"
   ]
  }
 ],
 "metadata": {
  "kernelspec": {
   "display_name": "Python 3 (ipykernel)",
   "language": "python",
   "name": "python3"
  },
  "language_info": {
   "codemirror_mode": {
    "name": "ipython",
    "version": 3
   },
   "file_extension": ".py",
   "mimetype": "text/x-python",
   "name": "python",
   "nbconvert_exporter": "python",
   "pygments_lexer": "ipython3",
   "version": "3.12.6"
  }
 },
 "nbformat": 4,
 "nbformat_minor": 5
}
