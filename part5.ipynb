{
 "cells": [
  {
   "cell_type": "markdown",
   "id": "b03b81bd-7d2e-400b-99c2-14685505de08",
   "metadata": {},
   "source": [
    "> a woman in Staten Island came to pick it up... She said “I only have ten or eleven cats, and anyway they are getting quite old now..."
   ]
  },
  {
   "cell_type": "markdown",
   "id": "d5323ef9-5f4f-4705-8481-1db122ca4d5b",
   "metadata": {},
   "source": [
    "I visually inspected the \"products\" table and found the pet food section.\n",
    "They specifically sell senior cat food!\n",
    "\n",
    "The goal is:\n",
    "- find people in Staten Island (FIXME: explain how this gets removed in the speedrun)\n",
    "- find which one buys the most senior cat food"
   ]
  },
  {
   "cell_type": "code",
   "execution_count": 1,
   "id": "3977cc38-d059-4ff5-9c79-2a4c4b12ed5a",
   "metadata": {},
   "outputs": [],
   "source": [
    "import polars as pl\n",
    "\n",
    "customers = pl.read_csv(\"harder-data/noahs-customers.csv\",try_parse_dates=True)\n",
    "orders_items = pl.read_csv(\"harder-data/noahs-orders_items.csv\",try_parse_dates=True)\n",
    "orders = pl.read_csv(\"harder-data/noahs-orders.csv\",try_parse_dates=True)\n",
    "products = pl.read_csv(\"harder-data/noahs-products.csv\",try_parse_dates=True)"
   ]
  },
  {
   "cell_type": "code",
   "execution_count": 2,
   "id": "8fffb5c3-412d-42f4-a745-0f2c635fd1ff",
   "metadata": {},
   "outputs": [
    {
     "name": "stdout",
     "output_type": "stream",
     "text": [
      "shape: (1, 2)\n",
      "┌────────────────┬──────────────┐\n",
      "│ name           ┆ phone        │\n",
      "│ ---            ┆ ---          │\n",
      "│ str            ┆ str          │\n",
      "╞════════════════╪══════════════╡\n",
      "│ Theresa Carter ┆ 347-835-2358 │\n",
      "└────────────────┴──────────────┘\n"
     ]
    }
   ],
   "source": [
    "# Find the senior cat food items\n",
    "senior_cat_food_products = products.filter(\n",
    "    pl.col(\"desc\").str.contains(\"Senior Cat Food\")\n",
    ")\n",
    "\n",
    "# Find who has bought the most senior cat food among all customers\n",
    "orders_items_with_cat_food = orders_items.join(\n",
    "    senior_cat_food_products, on=\"sku\", how=\"inner\"\n",
    ")\n",
    "orders_with_cat_food = orders.join(\n",
    "    orders_items_with_cat_food, on=\"orderid\", how=\"inner\"\n",
    ")\n",
    "cat_food_mvp = (\n",
    "    orders_with_cat_food.group_by(\"customerid\")\n",
    "    .agg(pl.col(\"qty\").sum())\n",
    "    .sort(\"qty\", descending=True)\n",
    "    .limit(1)\n",
    "    .select(\"customerid\")\n",
    "    .item()\n",
    ")\n",
    "\n",
    "print(customers.filter(pl.col(\"customerid\") == cat_food_mvp).select(\"name\", \"phone\"))\n"
   ]
  }
 ],
 "metadata": {
  "kernelspec": {
   "display_name": "Python 3 (ipykernel)",
   "language": "python",
   "name": "python3"
  },
  "language_info": {
   "codemirror_mode": {
    "name": "ipython",
    "version": 3
   },
   "file_extension": ".py",
   "mimetype": "text/x-python",
   "name": "python",
   "nbconvert_exporter": "python",
   "pygments_lexer": "ipython3",
   "version": "3.12.6"
  }
 },
 "nbformat": 4,
 "nbformat_minor": 5
}
