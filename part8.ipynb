{
 "cells": [
  {
   "cell_type": "markdown",
   "id": "58baf068-0bb5-47d0-89f2-1c9a276b01e4",
   "metadata": {},
   "source": [
    "> I gave it to my sister. She wound up getting a newer and more expensive carpet, so she gave it to an acquaintance of hers who collects all sorts of junk. Apparently he owns an entire set of Noah’s collectibles!\n",
    "\n",
    "Giving it to his sister seems like a red herring, and there's not much info I can glean from that.\n",
    "So instead, I'll focus on the acquaintance.\n",
    "\n",
    "First step is to figure out what the collectibles look like in the database.\n",
    "I learn from visual inspection that collectibles have a `sku` starting with \"COL\"."
   ]
  },
  {
   "cell_type": "code",
   "execution_count": 31,
   "id": "321ca49f-9418-4255-9183-46c47a8c1935",
   "metadata": {},
   "outputs": [],
   "source": [
    "import polars as pl\n",
    "\n",
    "customers = pl.read_csv(\"harder-data/noahs-customers.csv\",try_parse_dates=True)\n",
    "orders_items = pl.read_csv(\"harder-data/noahs-orders_items.csv\",try_parse_dates=True)\n",
    "orders = pl.read_csv(\"harder-data/noahs-orders.csv\",try_parse_dates=True)\n",
    "products = pl.read_csv(\"harder-data/noahs-products.csv\",try_parse_dates=True)"
   ]
  },
  {
   "cell_type": "code",
   "execution_count": 32,
   "id": "0804a806-03b0-4dc5-810f-7c226732d0f2",
   "metadata": {},
   "outputs": [
    {
     "name": "stdout",
     "output_type": "stream",
     "text": [
      "shape: (85, 4)\n",
      "┌─────────┬──────────────────────────────┬────────────────┬────────────────┐\n",
      "│ sku     ┆ desc                         ┆ wholesale_cost ┆ dims_cm        │\n",
      "│ ---     ┆ ---                          ┆ ---            ┆ ---            │\n",
      "│ str     ┆ str                          ┆ f64            ┆ str            │\n",
      "╞═════════╪══════════════════════════════╪════════════════╪════════════════╡\n",
      "│ COL0030 ┆ Noah's Action Figure (azure) ┆ 15.7           ┆ 18.2|15.2|13.6 │\n",
      "│ COL0061 ┆ Noah's Jewelry (yellow)      ┆ 27.89          ┆ 9.2|2.5|2.3    │\n",
      "│ COL0325 ┆ Noah's Bobblehead (amber)    ┆ 5.44           ┆ 15.7|6.3|1.5   │\n",
      "│ COL0510 ┆ Noah's Poster (amber)        ┆ 3.58           ┆ 15.0|14.2|2.3  │\n",
      "│ COL0582 ┆ Noah's Bobblehead (green)    ┆ 4.12           ┆ 10.3|4.9|0.6   │\n",
      "│ …       ┆ …                            ┆ …              ┆ …              │\n",
      "│ COL9236 ┆ Noah's Jewelry (azure)       ┆ 26.6           ┆ 19.6|6.6|5.6   │\n",
      "│ COL9268 ┆ Noah's Poster (mauve)        ┆ 3.14           ┆ 15.3|15.1|3.6  │\n",
      "│ COL9483 ┆ Noah's Bobblehead (mauve)    ┆ 5.49           ┆ 18.6|17.8|17.4 │\n",
      "│ COL9571 ┆ Noah's Lunchbox (azure)      ┆ 9.92           ┆ 17.3|15.0|6.0  │\n",
      "│ COL9592 ┆ Noah's Jewelry (mauve)       ┆ 26.06          ┆ 16.9|14.6|14.2 │\n",
      "└─────────┴──────────────────────────────┴────────────────┴────────────────┘\n"
     ]
    }
   ],
   "source": [
    "collectibles = products.filter(pl.col(\"sku\").str.starts_with(\"COL\"))\n",
    "print(collectibles)"
   ]
  },
  {
   "cell_type": "markdown",
   "id": "e9411f85-3e56-4b23-a908-5e53c05a9332",
   "metadata": {},
   "source": [
    "I'll find all the orders that contain any collectibles."
   ]
  },
  {
   "cell_type": "code",
   "execution_count": 33,
   "id": "3413a29e-260a-449c-8c21-3cb52838a726",
   "metadata": {},
   "outputs": [
    {
     "name": "stdout",
     "output_type": "stream",
     "text": [
      "shape: (38_162, 7)\n",
      "┌─────────┬─────────┬─────┬────────────┬─────────────────────────┬────────────────┬────────────────┐\n",
      "│ orderid ┆ sku     ┆ qty ┆ unit_price ┆ desc                    ┆ wholesale_cost ┆ dims_cm        │\n",
      "│ ---     ┆ ---     ┆ --- ┆ ---        ┆ ---                     ┆ ---            ┆ ---            │\n",
      "│ i64     ┆ str     ┆ i64 ┆ f64        ┆ str                     ┆ f64            ┆ str            │\n",
      "╞═════════╪═════════╪═════╪════════════╪═════════════════════════╪════════════════╪════════════════╡\n",
      "│ 1001    ┆ COL5420 ┆ 1   ┆ 12.27      ┆ Noah's Jersey (mauve)   ┆ 9.92           ┆ 14.4|12.9|6.7  │\n",
      "│ 1006    ┆ COL7392 ┆ 1   ┆ 5.17       ┆ Noah's Bobblehead (red) ┆ 3.92           ┆ 14.9|14.5|6.5  │\n",
      "│ 1007    ┆ COL5686 ┆ 2   ┆ 4.52       ┆ Noah's Poster (green)   ┆ 3.59           ┆ 14.4|14.1|12.7 │\n",
      "│ 1008    ┆ COL3641 ┆ 1   ┆ 11.34      ┆ Noah's Jersey (azure)   ┆ 10.66          ┆ 10.5|10.1|3.4  │\n",
      "│ 1015    ┆ COL8172 ┆ 1   ┆ 33.53      ┆ Noah's Jewelry (puce)   ┆ 29.27          ┆ 18.5|6.4|1.0   │\n",
      "│ …       ┆ …       ┆ …   ┆ …          ┆ …                       ┆ …              ┆ …              │\n",
      "│ 252072  ┆ COL4629 ┆ 1   ┆ 12.23      ┆ Noah's Lunchbox (green) ┆ 10.19          ┆ 9.6|9.2|7.2    │\n",
      "│ 252085  ┆ COL6796 ┆ 1   ┆ 11.47      ┆ Noah's Lunchbox (amber) ┆ 9.95           ┆ 11.3|2.8|0.8   │\n",
      "│ 252093  ┆ COL7008 ┆ 1   ┆ 11.08      ┆ Noah's Jersey (red)     ┆ 9.15           ┆ 16.7|12.5|9.2  │\n",
      "│ 252101  ┆ COL3237 ┆ 1   ┆ 4.72       ┆ Noah's Gift Box         ┆ 3.3            ┆ 15.7|12.8|2.3  │\n",
      "│         ┆         ┆     ┆            ┆ (magenta)               ┆                ┆                │\n",
      "│ 252102  ┆ COL9592 ┆ 1   ┆ 32.08      ┆ Noah's Jewelry (mauve)  ┆ 26.06          ┆ 16.9|14.6|14.2 │\n",
      "└─────────┴─────────┴─────┴────────────┴─────────────────────────┴────────────────┴────────────────┘\n"
     ]
    }
   ],
   "source": [
    "orders_items_collectibles = orders_items.join(collectibles, on=\"sku\", how=\"inner\")\n",
    "print(orders_items_collectibles)"
   ]
  },
  {
   "cell_type": "markdown",
   "id": "72076372-3357-49d5-974c-43286ad7fb20",
   "metadata": {},
   "source": [
    "Now I'll get the corresponding customerid for each of those rows."
   ]
  },
  {
   "cell_type": "code",
   "execution_count": 34,
   "id": "d8e66ecf-5f6d-4629-ac5b-ced50cb340ca",
   "metadata": {},
   "outputs": [
    {
     "name": "stdout",
     "output_type": "stream",
     "text": [
      "shape: (38_162, 1)\n",
      "┌────────────┐\n",
      "│ customerid │\n",
      "│ ---        │\n",
      "│ i64        │\n",
      "╞════════════╡\n",
      "│ 9576       │\n",
      "│ 3564       │\n",
      "│ 6323       │\n",
      "│ 2602       │\n",
      "│ 5093       │\n",
      "│ …          │\n",
      "│ 9472       │\n",
      "│ 2322       │\n",
      "│ 11226      │\n",
      "│ 10823      │\n",
      "│ 4942       │\n",
      "└────────────┘\n"
     ]
    }
   ],
   "source": [
    "customers_who_bought_collectibles = orders_items_collectibles.join(orders, on=\"orderid\", how=\"inner\")\n",
    "print(customers_who_bought_collectibles.select(\"customerid\"))"
   ]
  },
  {
   "cell_type": "markdown",
   "id": "dea39578-bd6f-4876-9f16-850ae80b93d3",
   "metadata": {},
   "source": [
    "Group by customerid and get a list of the collectibles they bought."
   ]
  },
  {
   "cell_type": "code",
   "execution_count": 35,
   "id": "43b163b0-633a-44fe-8976-19f17f22d6e0",
   "metadata": {},
   "outputs": [
    {
     "name": "stdout",
     "output_type": "stream",
     "text": [
      "shape: (5, 3)\n",
      "┌────────────┬─────────────────────────────────┬──────────────────┐\n",
      "│ customerid ┆ sku                             ┆ num_collectibles │\n",
      "│ ---        ┆ ---                             ┆ ---              │\n",
      "│ i64        ┆ list[str]                       ┆ u32              │\n",
      "╞════════════╪═════════════════════════════════╪══════════════════╡\n",
      "│ 2602       ┆ [\"COL3641\", \"COL9236\", … \"COL3… ┆ 106              │\n",
      "│ 8943       ┆ [\"COL1322\", \"COL3894\", … \"COL4… ┆ 32               │\n",
      "│ 5281       ┆ [\"COL2279\", \"COL3967\", … \"COL2… ┆ 32               │\n",
      "│ 6553       ┆ [\"COL9150\", \"COL7086\", … \"COL7… ┆ 32               │\n",
      "│ 6871       ┆ [\"COL6487\", \"COL9592\", … \"COL1… ┆ 32               │\n",
      "└────────────┴─────────────────────────────────┴──────────────────┘\n"
     ]
    }
   ],
   "source": [
    "customers_bought_num_collectibles = (\n",
    "    customers_who_bought_collectibles.group_by(\"customerid\")\n",
    "    .agg(pl.col(\"sku\"))\n",
    "    .with_columns(pl.col(\"sku\").list.len().alias(\"num_collectibles\"))\n",
    "    .sort(\"num_collectibles\", descending=True)\n",
    ")\n",
    "print(customers_bought_num_collectibles.head())"
   ]
  },
  {
   "cell_type": "markdown",
   "id": "88a5161f-0c58-4001-a7b2-1fac13dc4e05",
   "metadata": {},
   "source": [
    "Wow, that customer bought the most collectibles by far."
   ]
  },
  {
   "cell_type": "code",
   "execution_count": 37,
   "id": "dfe78269-6eec-457f-9dd0-639694afacc8",
   "metadata": {},
   "outputs": [
    {
     "name": "stdout",
     "output_type": "stream",
     "text": [
      "shape: (1, 3)\n",
      "┌────────────┬───────────────┬──────────────┐\n",
      "│ customerid ┆ name          ┆ phone        │\n",
      "│ ---        ┆ ---           ┆ ---          │\n",
      "│ i64        ┆ str           ┆ str          │\n",
      "╞════════════╪═══════════════╪══════════════╡\n",
      "│ 2602       ┆ Daniel Wilson ┆ 516-638-9966 │\n",
      "└────────────┴───────────────┴──────────────┘\n"
     ]
    }
   ],
   "source": [
    "collectibles_nerd_id = customers_bought_num_collectibles.item(0,0)\n",
    "print(\n",
    "    customers.filter(pl.col(\"customerid\") == collectibles_nerd_id).select(\n",
    "        \"customerid\", \"name\", \"phone\"\n",
    "    )\n",
    ")"
   ]
  }
 ],
 "metadata": {
  "kernelspec": {
   "display_name": "Python 3 (ipykernel)",
   "language": "python",
   "name": "python3"
  },
  "language_info": {
   "codemirror_mode": {
    "name": "ipython",
    "version": 3
   },
   "file_extension": ".py",
   "mimetype": "text/x-python",
   "name": "python",
   "nbconvert_exporter": "python",
   "pygments_lexer": "ipython3",
   "version": "3.12.6"
  }
 },
 "nbformat": 4,
 "nbformat_minor": 5
}
