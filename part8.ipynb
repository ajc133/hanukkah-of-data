{
 "cells": [
  {
   "cell_type": "markdown",
   "id": "58baf068-0bb5-47d0-89f2-1c9a276b01e4",
   "metadata": {},
   "source": [
    "> I gave it to my sister. She wound up getting a newer and more expensive carpet, so she gave it to an acquaintance of hers who collects all sorts of junk. Apparently he owns an entire set of Noah’s collectibles!\n",
    "\n",
    "Giving it to his sister seems like a red herring, and there's not much info I can glean from that.\n",
    "So instead, I'll focus on the acquaintance.\n",
    "\n",
    "First step is to figure out what the collectibles look like in the database.\n",
    "I learn from visual inspection that collectibles have a `sku` starting with \"COL\"."
   ]
  },
  {
   "cell_type": "code",
   "execution_count": 1,
   "id": "321ca49f-9418-4255-9183-46c47a8c1935",
   "metadata": {},
   "outputs": [],
   "source": [
    "import polars as pl\n",
    "\n",
    "customers = pl.read_csv(\"data/noahs-customers.csv\",try_parse_dates=True)\n",
    "orders_items = pl.read_csv(\"data/noahs-orders_items.csv\",try_parse_dates=True)\n",
    "orders = pl.read_csv(\"data/noahs-orders.csv\",try_parse_dates=True)\n",
    "products = pl.read_csv(\"data/noahs-products.csv\",try_parse_dates=True)"
   ]
  },
  {
   "cell_type": "code",
   "execution_count": 13,
   "id": "0804a806-03b0-4dc5-810f-7c226732d0f2",
   "metadata": {},
   "outputs": [
    {
     "name": "stdout",
     "output_type": "stream",
     "text": [
      "shape: (85, 4)\n",
      "┌─────────┬───────────────────────────────┬────────────────┬────────────────┐\n",
      "│ sku     ┆ desc                          ┆ wholesale_cost ┆ dims_cm        │\n",
      "│ ---     ┆ ---                           ┆ ---            ┆ ---            │\n",
      "│ str     ┆ str                           ┆ f64            ┆ str            │\n",
      "╞═════════╪═══════════════════════════════╪════════════════╪════════════════╡\n",
      "│ COL0037 ┆ Noah's Jewelry (green)        ┆ 28.32          ┆ 17.4|11.2|5.7  │\n",
      "│ COL0041 ┆ Noah's Ark Model (HO Scale)   ┆ 2487.35        ┆ 7.2|4.3|0.4    │\n",
      "│ COL0065 ┆ Noah's Jewelry (mauve)        ┆ 33.52          ┆ 19.0|12.2|10.5 │\n",
      "│ COL0166 ┆ Noah's Action Figure (blue)   ┆ 13.98          ┆ 12.1|7.7|7.2   │\n",
      "│ COL0167 ┆ Noah's Bobblehead (blue)      ┆ 5.36           ┆ 8.9|5.6|0.6    │\n",
      "│ …       ┆ …                             ┆ …              ┆ …              │\n",
      "│ COL9349 ┆ Noah's Action Figure (orange) ┆ 15.47          ┆ 16.6|12.9|11.9 │\n",
      "│ COL9420 ┆ Noah's Jewelry (amber)        ┆ 30.01          ┆ 13.8|9.1|4.9   │\n",
      "│ COL9773 ┆ Noah's Poster (magenta)       ┆ 4.13           ┆ 7.2|4.9|1.9    │\n",
      "│ COL9819 ┆ Noah's Lunchbox (blue)        ┆ 9.87           ┆ 14.2|4.1|3.3   │\n",
      "│ COL9948 ┆ Noah's Jewelry (magenta)      ┆ 32.97          ┆ 18.0|17.5|6.2  │\n",
      "└─────────┴───────────────────────────────┴────────────────┴────────────────┘\n"
     ]
    }
   ],
   "source": [
    "collectibles = products.filter(pl.col(\"sku\").str.starts_with(\"COL\"))\n",
    "print(collectibles)"
   ]
  },
  {
   "cell_type": "markdown",
   "id": "e9411f85-3e56-4b23-a908-5e53c05a9332",
   "metadata": {},
   "source": [
    "I'll find all the orders that contain any collectibles."
   ]
  },
  {
   "cell_type": "code",
   "execution_count": 7,
   "id": "3413a29e-260a-449c-8c21-3cb52838a726",
   "metadata": {},
   "outputs": [
    {
     "name": "stdout",
     "output_type": "stream",
     "text": [
      "shape: (28_013, 7)\n",
      "┌─────────┬─────────┬─────┬────────────┬─────────────────────────┬────────────────┬────────────────┐\n",
      "│ orderid ┆ sku     ┆ qty ┆ unit_price ┆ desc                    ┆ wholesale_cost ┆ dims_cm        │\n",
      "│ ---     ┆ ---     ┆ --- ┆ ---        ┆ ---                     ┆ ---            ┆ ---            │\n",
      "│ i64     ┆ str     ┆ i64 ┆ f64        ┆ str                     ┆ f64            ┆ str            │\n",
      "╞═════════╪═════════╪═════╪════════════╪═════════════════════════╪════════════════╪════════════════╡\n",
      "│ 1014    ┆ COL4117 ┆ 1   ┆ 4.55       ┆ Noah's Poster (yellow)  ┆ 3.63           ┆ 19.7|12.0|6.3  │\n",
      "│ 1015    ┆ COL8357 ┆ 1   ┆ 13.48      ┆ Noah's Lunchbox (mauve) ┆ 9.21           ┆ 19.9|17.4|9.8  │\n",
      "│ 1018    ┆ COL6388 ┆ 1   ┆ 3.72       ┆ Noah's Gift Box         ┆ 3.28           ┆ 19.0|9.5|2.2   │\n",
      "│         ┆         ┆     ┆            ┆ (magenta)               ┆                ┆                │\n",
      "│ 1040    ┆ COL7454 ┆ 1   ┆ 10.65      ┆ Noah's Jersey (mauve)   ┆ 8.19           ┆ 19.1|18.2|3.5  │\n",
      "│ 1041    ┆ COL2141 ┆ 1   ┆ 5.87       ┆ Noah's Bobblehead       ┆ 4.85           ┆ 19.0|10.4|10.2 │\n",
      "│         ┆         ┆     ┆            ┆ (puce)                  ┆                ┆                │\n",
      "│ …       ┆ …       ┆ …   ┆ …          ┆ …                       ┆ …              ┆ …              │\n",
      "│ 214217  ┆ COL9349 ┆ 1   ┆ 18.31      ┆ Noah's Action Figure    ┆ 15.47          ┆ 16.6|12.9|11.9 │\n",
      "│         ┆         ┆     ┆            ┆ (orange)                ┆                ┆                │\n",
      "│ 214218  ┆ COL0837 ┆ 1   ┆ 4.97       ┆ Noah's Poster (mauve)   ┆ 3.86           ┆ 13.0|3.3|0.8   │\n",
      "│ 214227  ┆ COL1263 ┆ 1   ┆ 21.15      ┆ Noah's Action Figure    ┆ 16.5           ┆ 10.2|7.5|3.6   │\n",
      "│         ┆         ┆     ┆            ┆ (yellow)                ┆                ┆                │\n",
      "│ 214231  ┆ COL3430 ┆ 1   ┆ 13.45      ┆ Noah's Lunchbox (green) ┆ 10.22          ┆ 16.0|6.9|1.9   │\n",
      "│ 214232  ┆ COL6388 ┆ 1   ┆ 4.25       ┆ Noah's Gift Box         ┆ 3.28           ┆ 19.0|9.5|2.2   │\n",
      "│         ┆         ┆     ┆            ┆ (magenta)               ┆                ┆                │\n",
      "└─────────┴─────────┴─────┴────────────┴─────────────────────────┴────────────────┴────────────────┘\n"
     ]
    }
   ],
   "source": [
    "orders_items_collectibles = orders_items.join(collectibles, on=\"sku\", how=\"inner\")\n",
    "print(orders_items_collectibles)"
   ]
  },
  {
   "cell_type": "markdown",
   "id": "72076372-3357-49d5-974c-43286ad7fb20",
   "metadata": {},
   "source": [
    "Now I'll get the corresponding customerid for each of those rows."
   ]
  },
  {
   "cell_type": "code",
   "execution_count": 11,
   "id": "d8e66ecf-5f6d-4629-ac5b-ced50cb340ca",
   "metadata": {},
   "outputs": [
    {
     "name": "stdout",
     "output_type": "stream",
     "text": [
      "shape: (28_013, 1)\n",
      "┌────────────┐\n",
      "│ customerid │\n",
      "│ ---        │\n",
      "│ i64        │\n",
      "╞════════════╡\n",
      "│ 4716       │\n",
      "│ 3808       │\n",
      "│ 2645       │\n",
      "│ 2520       │\n",
      "│ 8385       │\n",
      "│ …          │\n",
      "│ 6222       │\n",
      "│ 5950       │\n",
      "│ 8352       │\n",
      "│ 3894       │\n",
      "│ 1368       │\n",
      "└────────────┘\n"
     ]
    }
   ],
   "source": [
    "customers_who_bought_collectibles = orders_items_collectibles.join(orders, on=\"orderid\", how=\"inner\")\n",
    "print(customers_who_bought_collectibles.select(\"customerid\"))"
   ]
  },
  {
   "cell_type": "markdown",
   "id": "dea39578-bd6f-4876-9f16-850ae80b93d3",
   "metadata": {},
   "source": [
    "Group by customerid and get a list of the collectibles they bought."
   ]
  },
  {
   "cell_type": "code",
   "execution_count": 28,
   "id": "43b163b0-633a-44fe-8976-19f17f22d6e0",
   "metadata": {},
   "outputs": [
    {
     "name": "stdout",
     "output_type": "stream",
     "text": [
      "shape: (5, 3)\n",
      "┌────────────┬─────────────────────────────────┬──────────────────┐\n",
      "│ customerid ┆ sku                             ┆ num_collectibles │\n",
      "│ ---        ┆ ---                             ┆ ---              │\n",
      "│ i64        ┆ list[str]                       ┆ u32              │\n",
      "╞════════════╪═════════════════════════════════╪══════════════════╡\n",
      "│ 3808       ┆ [\"COL8357\", \"COL6858\", … \"COL2… ┆ 111              │\n",
      "│ 1787       ┆ [\"COL6461\", \"COL1263\", … \"COL9… ┆ 37               │\n",
      "│ 6855       ┆ [\"COL8354\", \"COL9011\", … \"COL5… ┆ 36               │\n",
      "│ 3580       ┆ [\"COL4363\", \"COL5018\", … \"COL2… ┆ 36               │\n",
      "│ 8352       ┆ [\"COL9948\", \"COL9349\", … \"COL1… ┆ 34               │\n",
      "└────────────┴─────────────────────────────────┴──────────────────┘\n"
     ]
    }
   ],
   "source": [
    "customers_bought_num_collectibles = (\n",
    "    customers_who_bought_collectibles.group_by(\"customerid\")\n",
    "    .agg(pl.col(\"sku\"))\n",
    "    .with_columns(pl.col(\"sku\").list.len().alias(\"num_collectibles\"))\n",
    "    .sort(\"num_collectibles\", descending=True)\n",
    ")\n",
    "print(customers_bought_num_collectibles.head())"
   ]
  },
  {
   "cell_type": "markdown",
   "id": "88a5161f-0c58-4001-a7b2-1fac13dc4e05",
   "metadata": {},
   "source": [
    "Customer with id 3808 has bought the most collectibles by far."
   ]
  },
  {
   "cell_type": "code",
   "execution_count": 30,
   "id": "dfe78269-6eec-457f-9dd0-639694afacc8",
   "metadata": {},
   "outputs": [
    {
     "name": "stdout",
     "output_type": "stream",
     "text": [
      "shape: (1, 3)\n",
      "┌────────────┬─────────────┬──────────────┐\n",
      "│ customerid ┆ name        ┆ phone        │\n",
      "│ ---        ┆ ---         ┆ ---          │\n",
      "│ i64        ┆ str         ┆ str          │\n",
      "╞════════════╪═════════════╪══════════════╡\n",
      "│ 3808       ┆ James Smith ┆ 212-547-3518 │\n",
      "└────────────┴─────────────┴──────────────┘\n"
     ]
    }
   ],
   "source": [
    "print(\n",
    "    customers.filter(pl.col(\"customerid\") == 3808).select(\n",
    "        \"customerid\", \"name\", \"phone\"\n",
    "    )\n",
    ")"
   ]
  },
  {
   "cell_type": "code",
   "execution_count": null,
   "id": "9e46f82f-9ae4-4a89-94c4-a870238de10a",
   "metadata": {},
   "outputs": [],
   "source": []
  }
 ],
 "metadata": {
  "kernelspec": {
   "display_name": "Python 3 (ipykernel)",
   "language": "python",
   "name": "python3"
  },
  "language_info": {
   "codemirror_mode": {
    "name": "ipython",
    "version": 3
   },
   "file_extension": ".py",
   "mimetype": "text/x-python",
   "name": "python",
   "nbconvert_exporter": "python",
   "pygments_lexer": "ipython3",
   "version": "3.12.6"
  }
 },
 "nbformat": 4,
 "nbformat_minor": 5
}
