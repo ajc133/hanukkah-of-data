{
 "cells": [
  {
   "cell_type": "markdown",
   "id": "879895f5-3260-4a34-bdbc-743077d65f25",
   "metadata": {},
   "source": [
    "# Part 6: The Bargain Hunter\n",
    "\n",
    "> She’s always been very frugal, and she clips every coupon and shops every sale at Noah’s Market. In fact I like to tease her that Noah actually loses money whenever she comes in the store.\n",
    ">\n",
    "> Once the subway fare increased, she stopped coming to visit me... I hope she remembers to invite me to the family reunion next year.\n",
    "\n",
    "If the market really does lose money whenever she purchases something, it means that items she's buying cost less per-unit than they do wholesale.\n",
    "\n",
    "In other words, the market is **selling items at a loss** to Nicole Wilson's cousin."
   ]
  },
  {
   "cell_type": "code",
   "execution_count": 43,
   "id": "03fc4f94-3b53-41bf-8d85-73147b88f768",
   "metadata": {},
   "outputs": [],
   "source": [
    "import polars as pl\n",
    "\n",
    "customers = pl.read_csv(\"data/noahs-customers.csv\",try_parse_dates=True)\n",
    "orders_items = pl.read_csv(\"data/noahs-orders_items.csv\",try_parse_dates=True)\n",
    "orders = pl.read_csv(\"data/noahs-orders.csv\",try_parse_dates=True)\n",
    "products = pl.read_csv(\"data/noahs-products.csv\",try_parse_dates=True)"
   ]
  },
  {
   "cell_type": "markdown",
   "id": "755d59db-397a-41de-8bef-02d3ca6cfa57",
   "metadata": {},
   "source": [
    "## But first, what's a subway? (Red herring) \n",
    "\n",
    "Can we use the information that her cousin stopped visiting her due to subway fare increase? This confused me at first, because all of the trains on Staten Island are aboveground. Aren't subways *below ground?*. \n",
    "\n",
    "But after poking around online, it seems like the whole system is referred to as \"The Subway\" citywide, regardless if many sections are aboveground.\n",
    "To get technical, Staten Island Railway is \"operated by the New York City Transit Authority **Department of Subways**\" and \"the line uses modified R44 and R211S **subway cars**\" according to [its Wikipedia page](https://en.wikipedia.org/wiki/Staten_Island_Railway).\n",
    "\n",
    "One important piece of info is that Staten Island is *not* connected to any other part of NYC by rail.\n",
    "So maybe I'll get lucky and find only one cousin (someone with the same last name as the lady from part 5, hopefully) who lives on Staten Island.\n"
   ]
  },
  {
   "cell_type": "code",
   "execution_count": 44,
   "id": "2b3cc405-107b-4813-b669-93ee54dc078f",
   "metadata": {},
   "outputs": [
    {
     "name": "stdout",
     "output_type": "stream",
     "text": [
      "shape: (4, 2)\n",
      "┌─────────────────┬──────────────┐\n",
      "│ name            ┆ phone        │\n",
      "│ ---             ┆ ---          │\n",
      "│ str             ┆ str          │\n",
      "╞═════════════════╪══════════════╡\n",
      "│ Nicole Wilson   ┆ 631-507-6048 │\n",
      "│ Michaela Wilson ┆ 315-859-7694 │\n",
      "│ Thomas Wilson   ┆ 914-910-1529 │\n",
      "│ Edwin Wilson    ┆ 516-767-0295 │\n",
      "└─────────────────┴──────────────┘\n"
     ]
    }
   ],
   "source": [
    "print(\n",
    "    customers.filter(\n",
    "        pl.col(\"citystatezip\").str.starts_with(\"Staten Island\"),\n",
    "        pl.col(\"name\").str.ends_with(\"Wilson\"),\n",
    "    ).select(\"name\", \"phone\")\n",
    ")"
   ]
  },
  {
   "cell_type": "markdown",
   "id": "37a0b865-0dd9-4b37-8fec-887d467cbd9d",
   "metadata": {},
   "source": [
    "Alas, none of those people are the answer.\n",
    "I guess it was just to highlight her cheapness.\n",
    "\n",
    "It was still a fun detour, though."
   ]
  },
  {
   "cell_type": "markdown",
   "id": "51015bb2-2e55-46d6-b7ca-e1132d8e8a25",
   "metadata": {},
   "source": [
    "## Items sold at a loss\n",
    "\n",
    "I'll make a table where I compute the profit made on every order."
   ]
  },
  {
   "cell_type": "code",
   "execution_count": 45,
   "id": "6f3bc297-5ef5-4c13-a971-5c753dcc95fd",
   "metadata": {},
   "outputs": [
    {
     "name": "stdout",
     "output_type": "stream",
     "text": [
      "shape: (213_232, 2)\n",
      "┌─────────┬────────┐\n",
      "│ orderid ┆ profit │\n",
      "│ ---     ┆ ---    │\n",
      "│ i64     ┆ f64    │\n",
      "╞═════════╪════════╡\n",
      "│ 65819   ┆ 3.11   │\n",
      "│ 31783   ┆ 0.64   │\n",
      "│ 16655   ┆ 0.49   │\n",
      "│ 46089   ┆ 0.97   │\n",
      "│ 56649   ┆ 2.06   │\n",
      "│ …       ┆ …      │\n",
      "│ 2027    ┆ 0.33   │\n",
      "│ 173325  ┆ 0.39   │\n",
      "│ 92266   ┆ 2.21   │\n",
      "│ 16890   ┆ 1.51   │\n",
      "│ 165218  ┆ 1.04   │\n",
      "└─────────┴────────┘\n"
     ]
    }
   ],
   "source": [
    "orders_items_including_profit = products.join(\n",
    "    orders_items, on=\"sku\", how=\"inner\"\n",
    ").with_columns(profit=pl.col(\"unit_price\") - pl.col(\"wholesale_cost\"))\n",
    "\n",
    "profit_per_order = orders_items_including_profit.group_by(\"orderid\").agg(pl.col(\"profit\").sum())\n",
    "print(profit_per_order)"
   ]
  },
  {
   "cell_type": "markdown",
   "id": "99580c69-233e-4293-8782-353a7ac7f52e",
   "metadata": {},
   "source": [
    "Then I'll find the customer who has the lowest (since it's negative) total profit summed across their orders."
   ]
  },
  {
   "cell_type": "code",
   "execution_count": 46,
   "id": "2d4a5cf3-c85b-4128-9280-02a8da7ce29f",
   "metadata": {},
   "outputs": [
    {
     "name": "stdout",
     "output_type": "stream",
     "text": [
      "shape: (5, 2)\n",
      "┌────────────┬────────┐\n",
      "│ customerid ┆ profit │\n",
      "│ ---        ┆ ---    │\n",
      "│ i64        ┆ f64    │\n",
      "╞════════════╪════════╡\n",
      "│ 4167       ┆ -85.59 │\n",
      "│ 8286       ┆ -1.04  │\n",
      "│ 7676       ┆ -0.17  │\n",
      "│ 6309       ┆ -0.04  │\n",
      "│ 2908       ┆ -0.02  │\n",
      "└────────────┴────────┘\n"
     ]
    }
   ],
   "source": [
    "# Create a table with orderid, customerid, and profit\n",
    "orders_including_profits = orders.select(\"orderid\",\"customerid\").join(profit_per_order, on=\"orderid\", how=\"inner\")\n",
    "\n",
    "# Group by customer id and take the sum of the profit\n",
    "print(orders_including_profits.group_by(\"customerid\").agg(pl.col(\"profit\").sum()).sort(\"profit\").head())"
   ]
  },
  {
   "cell_type": "markdown",
   "id": "863f28e2-ee98-47ef-8135-7af089cd4c88",
   "metadata": {},
   "source": [
    "It seems that customer with ID 4167 has costed Noah's Market $85.59 over the course of their career as a penny-pincher."
   ]
  },
  {
   "cell_type": "code",
   "execution_count": 48,
   "id": "0e1fcc8c-5a10-4d0d-a1c2-a190dae87693",
   "metadata": {},
   "outputs": [
    {
     "name": "stdout",
     "output_type": "stream",
     "text": [
      "shape: (1, 3)\n",
      "┌────────────┬─────────────┬──────────────┐\n",
      "│ customerid ┆ name        ┆ phone        │\n",
      "│ ---        ┆ ---         ┆ ---          │\n",
      "│ i64        ┆ str         ┆ str          │\n",
      "╞════════════╪═════════════╪══════════════╡\n",
      "│ 4167       ┆ Sherri Long ┆ 585-838-9161 │\n",
      "└────────────┴─────────────┴──────────────┘\n"
     ]
    }
   ],
   "source": [
    "print(customers.filter(pl.col(\"customerid\") == 4167).select(\"customerid\", \"name\",\"phone\"))"
   ]
  }
 ],
 "metadata": {
  "kernelspec": {
   "display_name": "Python 3 (ipykernel)",
   "language": "python",
   "name": "python3"
  },
  "language_info": {
   "codemirror_mode": {
    "name": "ipython",
    "version": 3
   },
   "file_extension": ".py",
   "mimetype": "text/x-python",
   "name": "python",
   "nbconvert_exporter": "python",
   "pygments_lexer": "ipython3",
   "version": "3.12.6"
  }
 },
 "nbformat": 4,
 "nbformat_minor": 5
}
