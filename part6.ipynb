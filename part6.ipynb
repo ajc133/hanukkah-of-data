{
 "cells": [
  {
   "cell_type": "markdown",
   "id": "879895f5-3260-4a34-bdbc-743077d65f25",
   "metadata": {},
   "source": [
    "> She’s always been very frugal, and she clips every coupon and shops every sale at Noah’s Market. In fact I like to tease her that Noah actually loses money whenever she comes in the store.\n",
    ">\n",
    "> Once the subway fare increased, she stopped coming to visit me... I hope she remembers to invite me to the family reunion next year.\n",
    "\n",
    "Ok, so I think this is where I'll need to pay attention to the \"unit_price\" vs \"wholesale_cost\" of products.\n",
    "If the market really does lose money whenever she purchases something, it means that items she's buying cost less per-unit than they do wholesale.\n",
    "\n",
    "In other words, the market is **selling items at a loss** to Nicole Wilson's cousin."
   ]
  },
  {
   "cell_type": "code",
   "execution_count": 30,
   "id": "03fc4f94-3b53-41bf-8d85-73147b88f768",
   "metadata": {},
   "outputs": [],
   "source": [
    "import polars as pl\n",
    "\n",
    "customers = pl.read_csv(\"harder-data/noahs-customers.csv\",try_parse_dates=True)\n",
    "orders_items = pl.read_csv(\"harder-data/noahs-orders_items.csv\",try_parse_dates=True)\n",
    "orders = pl.read_csv(\"harder-data/noahs-orders.csv\",try_parse_dates=True)\n",
    "products = pl.read_csv(\"harder-data/noahs-products.csv\",try_parse_dates=True)"
   ]
  },
  {
   "cell_type": "markdown",
   "id": "755d59db-397a-41de-8bef-02d3ca6cfa57",
   "metadata": {},
   "source": [
    "## But first, what's a subway?\n",
    "\n",
    "Can we use the information that her cousin stopped visiting her due to subway fare increase? This confused me at first, because all of the trains on Staten Island are aboveground. Aren't subways *below ground?*. \n",
    "\n",
    "But after poking around online, it seems like the whole system is referred to as The Subway citywide, regardless if many sections are aboveground.\n",
    "To get technical, Staten Island Railway is \"operated by the New York City Transit Authority **Department of Subways**\" and \"the line uses modified R44 and R211S **subway cars**\" according to [its Wikipedia page](https://en.wikipedia.org/wiki/Staten_Island_Railway).\n",
    "\n",
    "One important piece of info is that Staten Island is *not* connected to any other part of NYC by rail.\n",
    "So maybe I'll get lucky and find only one cousin (someone with the last name Wilson, hopefully) who lives on Staten Island.\n"
   ]
  },
  {
   "cell_type": "code",
   "execution_count": 31,
   "id": "2b3cc405-107b-4813-b669-93ee54dc078f",
   "metadata": {},
   "outputs": [
    {
     "name": "stdout",
     "output_type": "stream",
     "text": [
      "shape: (5, 2)\n",
      "┌────────────────┬──────────────┐\n",
      "│ name           ┆ phone        │\n",
      "│ ---            ┆ ---          │\n",
      "│ str            ┆ str          │\n",
      "╞════════════════╪══════════════╡\n",
      "│ Matthew Wilson ┆ 680-997-0472 │\n",
      "│ Donald Wilson  ┆ 585-706-6255 │\n",
      "│ Anna Wilson    ┆ 838-848-7496 │\n",
      "│ Brandi Wilson  ┆ 716-729-2527 │\n",
      "│ Crystal Wilson ┆ 680-234-0764 │\n",
      "└────────────────┴──────────────┘\n"
     ]
    }
   ],
   "source": [
    "print(\n",
    "    customers.filter(\n",
    "        pl.col(\"citystatezip\").str.starts_with(\"Staten Island\"),\n",
    "        pl.col(\"name\").str.ends_with(\"Wilson\"),\n",
    "    ).select(\"name\", \"phone\")\n",
    ")"
   ]
  },
  {
   "cell_type": "markdown",
   "id": "37a0b865-0dd9-4b37-8fec-887d467cbd9d",
   "metadata": {},
   "source": [
    "Alas, none of those people are the answer.\n",
    "It was still a fun detour, though."
   ]
  },
  {
   "cell_type": "markdown",
   "id": "51015bb2-2e55-46d6-b7ca-e1132d8e8a25",
   "metadata": {},
   "source": [
    "## Items sold at a loss\n",
    "\n",
    "I'll make a table where I compute the profit made on every order."
   ]
  },
  {
   "cell_type": "code",
   "execution_count": 35,
   "id": "6f3bc297-5ef5-4c13-a971-5c753dcc95fd",
   "metadata": {},
   "outputs": [
    {
     "data": {
      "text/html": [
       "<div><style>\n",
       ".dataframe > thead > tr,\n",
       ".dataframe > tbody > tr {\n",
       "  text-align: right;\n",
       "  white-space: pre-wrap;\n",
       "}\n",
       "</style>\n",
       "<small>shape: (251_102, 2)</small><table border=\"1\" class=\"dataframe\"><thead><tr><th>orderid</th><th>profit</th></tr><tr><td>i64</td><td>f64</td></tr></thead><tbody><tr><td>56703</td><td>45.58</td></tr><tr><td>95747</td><td>5.49</td></tr><tr><td>221579</td><td>26.0</td></tr><tr><td>244379</td><td>11.48</td></tr><tr><td>83239</td><td>42.68</td></tr><tr><td>&hellip;</td><td>&hellip;</td></tr><tr><td>56404</td><td>2.47</td></tr><tr><td>58634</td><td>0.84</td></tr><tr><td>31550</td><td>1.24</td></tr><tr><td>130208</td><td>0.46</td></tr><tr><td>249645</td><td>34.74</td></tr></tbody></table></div>"
      ],
      "text/plain": [
       "shape: (251_102, 2)\n",
       "┌─────────┬────────┐\n",
       "│ orderid ┆ profit │\n",
       "│ ---     ┆ ---    │\n",
       "│ i64     ┆ f64    │\n",
       "╞═════════╪════════╡\n",
       "│ 56703   ┆ 45.58  │\n",
       "│ 95747   ┆ 5.49   │\n",
       "│ 221579  ┆ 26.0   │\n",
       "│ 244379  ┆ 11.48  │\n",
       "│ 83239   ┆ 42.68  │\n",
       "│ …       ┆ …      │\n",
       "│ 56404   ┆ 2.47   │\n",
       "│ 58634   ┆ 0.84   │\n",
       "│ 31550   ┆ 1.24   │\n",
       "│ 130208  ┆ 0.46   │\n",
       "│ 249645  ┆ 34.74  │\n",
       "└─────────┴────────┘"
      ]
     },
     "execution_count": 35,
     "metadata": {},
     "output_type": "execute_result"
    }
   ],
   "source": [
    "orders_items_including_profit = products.join(\n",
    "    orders_items, on=\"sku\", how=\"inner\"\n",
    ").with_columns(profit=pl.col(\"unit_price\") - pl.col(\"wholesale_cost\"))\n",
    "\n",
    "# Compute the\n",
    "profit_per_order = orders_items_including_profit.group_by(\"orderid\").agg(pl.col(\"profit\").sum())\n",
    "profit_per_order"
   ]
  },
  {
   "cell_type": "markdown",
   "id": "99580c69-233e-4293-8782-353a7ac7f52e",
   "metadata": {},
   "source": [
    "Then I'll find the customer who has the lowest (since it's negative) total profit summed across their orders."
   ]
  },
  {
   "cell_type": "code",
   "execution_count": 38,
   "id": "2d4a5cf3-c85b-4128-9280-02a8da7ce29f",
   "metadata": {},
   "outputs": [
    {
     "name": "stdout",
     "output_type": "stream",
     "text": [
      "shape: (5, 2)\n",
      "┌────────────┬─────────┐\n",
      "│ customerid ┆ profit  │\n",
      "│ ---        ┆ ---     │\n",
      "│ i64        ┆ f64     │\n",
      "╞════════════╪═════════╡\n",
      "│ 8884       ┆ -1392.3 │\n",
      "│ 9463       ┆ -0.97   │\n",
      "│ 6189       ┆ -0.06   │\n",
      "│ 10044      ┆ -0.06   │\n",
      "│ 3511       ┆ -0.05   │\n",
      "└────────────┴─────────┘\n"
     ]
    }
   ],
   "source": [
    "# Create a table with orderid, customerid, and profit\n",
    "orders_with_profits = orders.select(\"orderid\",\"customerid\").join(profit_per_order, on=\"orderid\", how=\"inner\")\n",
    "\n",
    "# Group by customer id and take the sum of the profit\n",
    "top_thriftiest_customers = orders_with_profits.group_by(\"customerid\").agg(pl.col(\"profit\").sum()).sort(\"profit\").head()\n",
    "print(top_thriftiest_customers)"
   ]
  },
  {
   "cell_type": "markdown",
   "id": "863f28e2-ee98-47ef-8135-7af089cd4c88",
   "metadata": {},
   "source": [
    "The thriftiest customer is very obvious here. They have costed Noah's Market $$85.59 ($1392.30 in the speedrun!!) over the course of their career as a penny-pincher."
   ]
  },
  {
   "cell_type": "code",
   "execution_count": 40,
   "id": "0e1fcc8c-5a10-4d0d-a1c2-a190dae87693",
   "metadata": {},
   "outputs": [
    {
     "name": "stdout",
     "output_type": "stream",
     "text": [
      "shape: (1, 3)\n",
      "┌────────────┬───────────────┬──────────────┐\n",
      "│ customerid ┆ name          ┆ phone        │\n",
      "│ ---        ┆ ---           ┆ ---          │\n",
      "│ i64        ┆ str           ┆ str          │\n",
      "╞════════════╪═══════════════╪══════════════╡\n",
      "│ 8884       ┆ Deborah Green ┆ 838-295-7143 │\n",
      "└────────────┴───────────────┴──────────────┘\n"
     ]
    }
   ],
   "source": [
    "thriftiest_customer_id = top_thriftiest_customers.item(0,0)\n",
    "print(customers.filter(pl.col(\"customerid\") == thriftiest_customer_id).select(\"customerid\", \"name\",\"phone\"))"
   ]
  }
 ],
 "metadata": {
  "kernelspec": {
   "display_name": "Python 3 (ipykernel)",
   "language": "python",
   "name": "python3"
  },
  "language_info": {
   "codemirror_mode": {
    "name": "ipython",
    "version": 3
   },
   "file_extension": ".py",
   "mimetype": "text/x-python",
   "name": "python",
   "nbconvert_exporter": "python",
   "pygments_lexer": "ipython3",
   "version": "3.12.6"
  }
 },
 "nbformat": 4,
 "nbformat_minor": 5
}
