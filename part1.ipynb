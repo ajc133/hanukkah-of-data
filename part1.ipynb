{
 "cells": [
  {
   "cell_type": "markdown",
   "id": "e497f53b-47bf-43cb-8fe8-1ab8b35a026b",
   "metadata": {},
   "source": [
    "# Hannukah of Data: Part 1\n",
    "\n",
    "*[Hannukah of Data: Noah's Rug](https://hanukkah.bluebird.sh/5784/)* is a super fun data puzzle where you must sift through a database from Noah's Market, \"a bustling mom-and-pop everything store in Manhattan\", and find past customers who can help you find Noah's Rug.\n",
    "\n",
    "I'm going to attempt the challenges with a mix of Python and SQL.\n",
    "I'll try using [Polars](https://docs.pola.rs/), a new DataFrame library which seems more intuitive to me than Pandas.\n",
    "I know I'll be bailing out and using SQL as the tasks get harder, though.\n",
    "\n",
    "Part 0 is getting access to the database files, which I'll leave as an exercise to the reader.\n",
    "\n",
    "I'll also be leaving most of the challenge description/story out of this, but I really recommend playing along because it's funny story that plays out."
   ]
  },
  {
   "cell_type": "markdown",
   "id": "e2844e4b-ddc3-453c-bbd8-f943e0794940",
   "metadata": {},
   "source": [
    "# Part 1: The Investigator\n",
    "\n",
    "The goal is to find the customer whose phone number is equivalent to their last name spelled out (when translated into 10-key phone number presses).\n",
    "\n",
    "First, I'll need a function that converts a string (last name) to a phone number. \n",
    "For example, \"SAM\" would be \"726\" and \"NOAH\" would be \"6624\".\n",
    "\n",
    "Then, I'll need to run that function on everyone's last name and see if it matches their phone number."
   ]
  },
  {
   "cell_type": "code",
   "execution_count": 54,
   "id": "4397c396-34ed-465d-8cfd-52a2c1f444f2",
   "metadata": {},
   "outputs": [],
   "source": [
    "import polars as pl\n",
    "customers = pl.read_csv(\"data/noahs-customers.csv\",try_parse_dates=True)"
   ]
  },
  {
   "cell_type": "code",
   "execution_count": 55,
   "id": "76ffd073-15d4-40c3-a3bc-802811c5c41a",
   "metadata": {},
   "outputs": [],
   "source": [
    "def letter_to_number(letter: str) -> str:\n",
    "    if len(letter) > 1:\n",
    "        raise ValueError(\"You can only pass one letter at a time\")\n",
    "        \n",
    "    letter = letter.lower()\n",
    "    if letter in \"abc\":\n",
    "        return \"2\"\n",
    "    elif letter in \"def\":\n",
    "        return \"3\"\n",
    "    elif letter in \"ghi\":\n",
    "        return \"4\"\n",
    "    elif letter in \"jkl\":\n",
    "        return \"5\"\n",
    "    elif letter in \"mno\":\n",
    "        return \"6\"\n",
    "    elif letter in \"pqrs\":\n",
    "        return \"7\"\n",
    "    elif letter in \"tuv\":\n",
    "        return \"8\"\n",
    "    elif letter in \"wxyz\":\n",
    "        return \"9\"\n",
    "        \n",
    "def name_to_number(name: str) -> str:\n",
    "    return \"\".join([letter_to_number(l) for l in name if l.isalpha()])\n"
   ]
  },
  {
   "cell_type": "code",
   "execution_count": 62,
   "id": "d287d142-b61d-407c-a4b7-b2a694f97fa6",
   "metadata": {},
   "outputs": [
    {
     "name": "stdout",
     "output_type": "stream",
     "text": [
      "shape: (1, 3)\n",
      "┌─────────────┬────────────────┬──────────────┐\n",
      "│ name_number ┆ name           ┆ phone        │\n",
      "│ ---         ┆ ---            ┆ ---          │\n",
      "│ str         ┆ str            ┆ str          │\n",
      "╞═════════════╪════════════════╪══════════════╡\n",
      "│ 8266362286  ┆ Sam Tannenbaum ┆ 826-636-2286 │\n",
      "└─────────────┴────────────────┴──────────────┘\n"
     ]
    }
   ],
   "source": [
    "# Solution\n",
    "last_names_translated = customers.select(\n",
    "    pl.col(\"name\")\n",
    "    .str.extract(r\"(.+) (.+)\", group_index=2)\n",
    "    .map_elements(name_to_number, return_dtype=pl.String)\n",
    "    .alias(\"name_number\"),\n",
    "    pl.col(\"name\"),\n",
    "    pl.col(\"phone\"),\n",
    ")\n",
    "\n",
    "print(last_names_translated.filter(\n",
    "    pl.col(\"name_number\") == pl.col(\"phone\").str.replace_all(\"-\", \"\")\n",
    "))"
   ]
  },
  {
   "cell_type": "markdown",
   "id": "450b56a3-9df3-482c-9618-360d95a056d9",
   "metadata": {},
   "source": [
    "# Explanation\n",
    "\n",
    "The above code selects the \"name\" column in the customers table, takes the last name, and runs the `name_to_number` function function on it.\n",
    "The second line then filters all the rows where the above \"last name translated to phone number\" (here I called the new column `name_number`) is equal to the the phone number.\n",
    "Luckily there was only one person!"
   ]
  }
 ],
 "metadata": {
  "kernelspec": {
   "display_name": "Python 3 (ipykernel)",
   "language": "python",
   "name": "python3"
  },
  "language_info": {
   "codemirror_mode": {
    "name": "ipython",
    "version": 3
   },
   "file_extension": ".py",
   "mimetype": "text/x-python",
   "name": "python",
   "nbconvert_exporter": "python",
   "pygments_lexer": "ipython3",
   "version": "3.12.6"
  }
 },
 "nbformat": 4,
 "nbformat_minor": 5
}
